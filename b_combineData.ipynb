{
 "cells": [
  {
   "cell_type": "markdown",
   "id": "fc8aa102-c18f-4849-a4b3-40c8ebcb4f33",
   "metadata": {},
   "source": [
    "# combine dictionaries into something useful"
   ]
  },
  {
   "cell_type": "code",
   "execution_count": 1,
   "id": "6bfd2706-412d-46b4-88e1-8717d4880fed",
   "metadata": {},
   "outputs": [],
   "source": [
    "import helper_functions"
   ]
  },
  {
   "cell_type": "code",
   "execution_count": 2,
   "id": "be295205-aa3c-4a65-b66f-1ad89dd085db",
   "metadata": {},
   "outputs": [],
   "source": [
    "# temporary\n",
    "ECMWF = helper_functions.load_from_pickle('data/update/ecmwf.pickle')\n",
    "IITM = helper_functions.load_from_pickle('data/update/iitm.pickle')\n",
    "\n",
    "ERA5_ecmwf = helper_functions.load_from_pickle('data/update/era5_ecmwf.pickle')\n",
    "ERA5_iitm = helper_functions.load_from_pickle('data/update/era5_iitm.pickle')\n",
    "\n",
    "MERRA2_ecmwf = helper_functions.load_from_pickle('data/update/merra2_ecmwf.pickle')\n",
    "MERRA2_iitm = helper_functions.load_from_pickle('data/update/merra2_iitm.pickle')\n",
    "\n",
    "[ERA5_depressions_ecmwf,\n",
    " ERA5_lows_ecmwf, \n",
    " ERA5_depressions_iitm,\n",
    " ERA5_lows_iitm] = helper_functions.load_from_pickle('data/update/depressions_lows.pickle')"
   ]
  },
  {
   "cell_type": "markdown",
   "id": "7b01b95b-eb35-4596-a82b-69e42bbe1db1",
   "metadata": {},
   "source": [
    "## models & ERA5"
   ]
  },
  {
   "cell_type": "code",
   "execution_count": 3,
   "id": "7b0a96d4-cf59-4342-8202-a022ade88e13",
   "metadata": {},
   "outputs": [],
   "source": [
    "# temporary\n",
    "ERA5_ECMWF_joined = helper_functions.join_model_obs(ECMWF, ERA5_ecmwf, '_era5', '_ecmwf')\n",
    "ERA5_IITM_joined = helper_functions.join_model_obs(IITM, ERA5_iitm, '_era5', '_iitm')"
   ]
  },
  {
   "cell_type": "code",
   "execution_count": 4,
   "id": "123a3423-2a62-46bf-b466-42cb0bc566b1",
   "metadata": {},
   "outputs": [
    {
     "data": {
      "text/plain": [
       "(117, 103)"
      ]
     },
     "execution_count": 4,
     "metadata": {},
     "output_type": "execute_result"
    }
   ],
   "source": [
    "len(ERA5_ECMWF_joined), len(ERA5_IITM_joined)"
   ]
  },
  {
   "cell_type": "code",
   "execution_count": 5,
   "id": "7b8fda10-e9ce-46c8-88ab-eaece25e4858",
   "metadata": {},
   "outputs": [],
   "source": [
    "# temporary\n",
    "ERA5_ECMWF_deps = helper_functions.join_model_obs(ECMWF, ERA5_depressions_ecmwf, '_era5', '_ecmwf')\n",
    "ERA5_ECMWF_lows = helper_functions.join_model_obs(ECMWF, ERA5_lows_ecmwf, '_era5', '_ecmwf')\n",
    "\n",
    "ERA5_IITM_deps = helper_functions.join_model_obs(IITM, ERA5_depressions_iitm, '_era5', '_iitm')\n",
    "ERA5_IITM_lows = helper_functions.join_model_obs(IITM, ERA5_lows_iitm, '_era5', '_iitm')"
   ]
  },
  {
   "cell_type": "code",
   "execution_count": 6,
   "id": "8a3f4ac7-5590-4d28-8080-64dba97facbb",
   "metadata": {},
   "outputs": [
    {
     "data": {
      "text/plain": [
       "(56, 61, 52, 51)"
      ]
     },
     "execution_count": 6,
     "metadata": {},
     "output_type": "execute_result"
    }
   ],
   "source": [
    "# these are ERA5 depressions/lows, with two different sets for ECMWF and IITM hits\n",
    "len(ERA5_ECMWF_deps), len(ERA5_ECMWF_lows), len(ERA5_IITM_deps), len(ERA5_IITM_lows)"
   ]
  },
  {
   "cell_type": "code",
   "execution_count": 8,
   "id": "1be9d0c4-f6bd-44b9-b744-e80a38a9f056",
   "metadata": {},
   "outputs": [],
   "source": [
    "# temporary\n",
    "models_joined_with_era5 = [ERA5_ECMWF_joined, ERA5_IITM_joined, ERA5_ECMWF_deps, ERA5_ECMWF_lows,\n",
    "                          ERA5_IITM_deps, ERA5_IITM_lows]\n",
    "helper_functions.store_as_pickle(models_joined_with_era5, 'data/update/models_joined_with_era5.pickle')"
   ]
  },
  {
   "cell_type": "markdown",
   "id": "c34ea146-489e-41a6-8a40-a8676a47441d",
   "metadata": {},
   "source": [
    "## models & MERRA2"
   ]
  },
  {
   "cell_type": "code",
   "execution_count": 9,
   "id": "0aee3f5e-55fe-4d21-a537-53eff6938e14",
   "metadata": {},
   "outputs": [],
   "source": [
    "# doing this because MERRA2 tracks might have genesis after model genesis, and we want\n",
    "#    ForecastLeadTime to be measured since model genesis\n",
    "# Use case: if the model starts before the MERRA2 track, even though the first few comparison points\n",
    "#    will be NaN, we still want zero ForecastLeadTime to represent model genesis\n",
    "model = ECMWF\n",
    "obs = MERRA2_ecmwf\n",
    "lsuffix = '_ecmwf'\n",
    "rsuffix = '_merra2'\n",
    "\n",
    "MERRA2_ECMWF_joined = {key: model_df.merge(obs[key], on='date', how='left', \n",
    "                                           suffixes=(lsuffix, rsuffix)).set_index('date')\n",
    "                       for key, model_df in model.items() if key in obs}"
   ]
  },
  {
   "cell_type": "code",
   "execution_count": 10,
   "id": "98010068-d751-4fdf-ae27-4120eba5c486",
   "metadata": {},
   "outputs": [
    {
     "data": {
      "text/plain": [
       "103"
      ]
     },
     "execution_count": 10,
     "metadata": {},
     "output_type": "execute_result"
    }
   ],
   "source": [
    "len(MERRA2_ECMWF_joined)"
   ]
  },
  {
   "cell_type": "code",
   "execution_count": 11,
   "id": "65f00dc8-59da-41eb-bf3e-58bbdf1286dc",
   "metadata": {},
   "outputs": [],
   "source": [
    "model = IITM\n",
    "obs = MERRA2_iitm\n",
    "lsuffix = '_iitm'\n",
    "rsuffix = '_merra2'\n",
    "\n",
    "MERRA2_IITM_joined = {key: model_df.merge(obs[key], on='date', how='left', \n",
    "                                           suffixes=(lsuffix, rsuffix)).set_index('date')\n",
    "                       for key, model_df in model.items() if key in obs}"
   ]
  },
  {
   "cell_type": "code",
   "execution_count": 12,
   "id": "9b6de81e-b782-4518-8b4b-4bbc81144e30",
   "metadata": {},
   "outputs": [
    {
     "data": {
      "text/plain": [
       "94"
      ]
     },
     "execution_count": 12,
     "metadata": {},
     "output_type": "execute_result"
    }
   ],
   "source": [
    "len(MERRA2_IITM_joined)"
   ]
  },
  {
   "cell_type": "code",
   "execution_count": 75,
   "id": "2647aa94-a6e1-498f-ad26-9dca3fb43339",
   "metadata": {},
   "outputs": [],
   "source": [
    "# DO NOT USE THESE, THEY DO AN INNER JOIN AND THIS ONLY WORKS FOR ERA5\n",
    "#    since ERA5 tracks can never start after model tracks, so ForecastLeadTime\n",
    "#    from an inner join will always represent time since model genesis\n",
    "# MERRA2_ECMWF_joined = join_model_obs(ECMWF, MERRA2_ecmwf, '_merra2', '_ecmwf')\n",
    "# MERRA2_IITM_joined = join_model_obs(IITM, MERRA2_iitm, '_merra2', '_iitm')"
   ]
  },
  {
   "cell_type": "code",
   "execution_count": 13,
   "id": "bad0d9a7-4214-4a03-a173-03d28c59b4ab",
   "metadata": {},
   "outputs": [],
   "source": [
    "models_joined_with_merra2 = [MERRA2_ECMWF_joined, MERRA2_IITM_joined]\n",
    "helper_functions.store_as_pickle(models_joined_with_merra2, \n",
    "                                 'data/update/models_joined_with_merra2.pickle')"
   ]
  },
  {
   "cell_type": "code",
   "execution_count": null,
   "id": "ee2a4ab6-0e43-4f72-8bb2-98b4bc19a30b",
   "metadata": {},
   "outputs": [],
   "source": []
  }
 ],
 "metadata": {
  "kernelspec": {
   "display_name": "Python (xarrayenv)",
   "language": "python",
   "name": "xarrayenv"
  },
  "language_info": {
   "codemirror_mode": {
    "name": "ipython",
    "version": 3
   },
   "file_extension": ".py",
   "mimetype": "text/x-python",
   "name": "python",
   "nbconvert_exporter": "python",
   "pygments_lexer": "ipython3",
   "version": "3.7.7"
  }
 },
 "nbformat": 4,
 "nbformat_minor": 5
}
