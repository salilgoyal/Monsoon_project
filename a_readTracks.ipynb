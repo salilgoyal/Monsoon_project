{
 "cells": [
  {
   "cell_type": "markdown",
   "id": "de7f7e8c-1902-493e-9c06-d8201d064d48",
   "metadata": {},
   "source": [
    "# read in track files as useful dataframes"
   ]
  },
  {
   "cell_type": "code",
   "execution_count": 1,
   "id": "bb25fcae-14fd-4967-aa8b-3319b3240037",
   "metadata": {},
   "outputs": [],
   "source": [
    "import numpy as np\n",
    "import matplotlib.pyplot as plt\n",
    "import pandas as pd\n",
    "\n",
    "from datetime import datetime, timedelta\n",
    "import os\n",
    "import pickle"
   ]
  },
  {
   "cell_type": "markdown",
   "id": "5335484e-f5d3-4699-aac1-568d4c3dc310",
   "metadata": {
    "jp-MarkdownHeadingCollapsed": true,
    "tags": []
   },
   "source": [
    "## Helper methods"
   ]
  },
  {
   "cell_type": "markdown",
   "id": "6aa68b82-2d7d-49f2-855f-3c9d2561d2c3",
   "metadata": {},
   "source": [
    "Previous plan: \n",
    "- make unique keys for every track (yyyymmdd-hh-lon-lat)\n",
    "- figure out which MERRA2 tracks correspond to which ERA5 tracks (using condition of overlap for at least 24 hours with mean distance <5 degrees:\n",
    "    - loop through the ERA 5 tracks\n",
    "    - for a given ERA5 track, concatenate all the MERRA2 dfs together into one big df and use the appraoch in Suhas' script.\n",
    "- use the ERA5 yyyymmdd to pick out the ECMWF and IITM files (they have filenames along the lines of LPS_track_yyyymmdd.txt), and then find which tracks inside those files are hits. \n",
    "- at this point, I will have 1 track for each of MERRA2, ERA5, ECMWF and IITM that correspond to the same system. I can then do the analysis.\n",
    "\n",
    "Current update (07/2022):\n",
    "- I only had 102 IITM track files (the hits that were common with the set of ECMWF hits, under the old matching criterion), because the rest of the files weren't regularly being accessed for a many months and got automatically deleted from Vishnu's scratch directory.\n",
    "- Now, we are usinga different matching criterion, so need to check all the files.\n",
    "- Vishnu only has the old candidate files, so we re-ran tempestextremes on those and are using the LPS_output files (can't get the LPS_track files because need MSLP data for that)\n",
    "- currently, we won't worry about getting common hits"
   ]
  },
  {
   "cell_type": "code",
   "execution_count": 2,
   "id": "843ca5d7-b560-4547-ac08-df10f0ba7403",
   "metadata": {},
   "outputs": [],
   "source": [
    "# \"\".join([str(int(x)).zfill(2) for x in list(group.iloc[0][2:5])]) outputs something of the form\n",
    "#    yyyymmdd, e.g., '20070618'\n",
    "\n",
    "def create_id(x):\n",
    "    key = (\"\".join([str(int(elem)).zfill(2) for elem in list(x.iloc[0,2:5])]) # yyyymmdd\n",
    "           +\"-\"\n",
    "           +str(int(x.iloc[0,5])) # hh\n",
    "           +\"-\"\n",
    "           +\"-\".join([str(float(elem)) for elem in list(x.iloc[1][3:5])]) # lon-lat\n",
    "          )\n",
    "    return key"
   ]
  },
  {
   "cell_type": "code",
   "execution_count": 3,
   "id": "7c792194-dd6e-45a4-a942-ca052419a146",
   "metadata": {},
   "outputs": [],
   "source": [
    "# There is 1 empty column at the start of all rows in LPS_track files (it is where\n",
    "#    the 'start' in the 'start 41 2007 06 18 00' lines goes)\n",
    "\n",
    "# param: csv: a text file (of the form LPS_track_yyyymmdd.txt) supplied by Vishnu\n",
    "# param: column_names: a list of column names\n",
    "# returns: a dictionary whose keys are dates of storms and values are dataframes\n",
    "def read_vishnu_csv_to_dic(csv, column_names, data_name, keyIncludesHour=False, \n",
    "                           keyToCheckForHit=None, obsToCheckForHit=None,\n",
    "                           lonMin=50, lonMax=100, latMin=0, latMax = 30, yearMin=2007, yearMax=2018,\n",
    "                           monthMin=6, monthMax=9):\n",
    "    \n",
    "    file = csv\n",
    "    df = pd.read_csv(file, header=None, names=column_names, sep='\\t')\n",
    "    \n",
    "    # df[0] gets the first column, which is empty except for 'start'\n",
    "    # .isin(['start'] returns a boolean array, where it is True wherever there is 'start' and False\n",
    "    #    otherwise\n",
    "    # .cumsum() returns an array of numbers, that starts at the first True and takes the value 1 at\n",
    "    #    every index until the next True, after which it takes the value 2 until the next True, and\n",
    "    #    so on.\n",
    "    # so, the dataframe is grouped into the distinct storms, based on whenever there is a 'start' line.\n",
    "    groups = df[0].isin(['start']).cumsum()\n",
    "    \n",
    "    # group.iloc[1:, 1:] gets rid of the first row (with 'start') and the first column (that is empty\n",
    "    #    in all the rows except for in the 'start' row\n",
    "    # so, in dic_of_dfs, the keys are the unique IDs based on genesis time and position\n",
    "    #    (like '20070618-12-87.5-17.5') and the values are dataframes\n",
    "    dic_of_dfs = {create_id(group): \n",
    "                  pd.concat([group.iloc[1:, 1:],\n",
    "                             pd.Series(create_id(group),\n",
    "                                       index=group.iloc[1:].index).rename(data_name+' key')], \n",
    "                            axis=1) \n",
    "                  for name, group in df.groupby(groups)\n",
    "                  if (lonMin <= group.iloc[1, 3] <= lonMax\n",
    "                      and latMin <= group.iloc[1, 4] <= latMax\n",
    "                      and yearMin <= group.iloc[0, 2] <= yearMax\n",
    "                      and monthMin <= group.iloc[0, 3] <= monthMax)}\n",
    "        # the if condition filters for storms that are over India,\n",
    "        #    and between 2007 and 2018,\n",
    "        #    and in the Indian summer monsoon season (JJAS: June, July, August, September)\n",
    "        # for 'over India', need longitude between 50 and 100 degrees, and latitude \n",
    "        #    between 5 and 30 degrees.\n",
    "        \n",
    "        # for reference:\n",
    "        # group.iloc[1:]['Longitude'].between(lonMin, lonMax).all() \n",
    "        # and group.iloc[1:]['Latitude'].between(latMin, latMax).all()\n",
    "    \n",
    "    return dic_of_dfs"
   ]
  },
  {
   "cell_type": "code",
   "execution_count": 4,
   "id": "be4f091a-2b76-4a6b-8d67-e4e375484425",
   "metadata": {},
   "outputs": [],
   "source": [
    "# param: df: a pandas dataframe containing columns titled 'Year', 'Month', 'Day', 'Hour'\n",
    "# returns: a datafram identical to df, except containing an extra column 'date'\n",
    "def add_datetime_to_df(df):\n",
    "    \n",
    "    # the .to_datetime method relies on the columns having sensible names 'Year', 'Month', etc.\n",
    "    df['date'] = pd.to_datetime(df[['Year', 'Month', 'Day', 'Hour']])\n",
    "    \n",
    "    return df\n",
    "\n",
    "# param: dic: a dictionary whose values are dataframes\n",
    "# returns: a dictionary with all the dataframes having an extra 'date' column\n",
    "def add_datetime_to_dic(dic):\n",
    "    \n",
    "    return {key: add_datetime_to_df(value) for key, value in dic.items()}"
   ]
  },
  {
   "cell_type": "code",
   "execution_count": 5,
   "id": "a94dd5a3-a4d5-4bbe-8462-7278ee23cdda",
   "metadata": {},
   "outputs": [],
   "source": [
    "# to have a moist LPS, we want relative humidity to exceed 85% for a cumulative period\n",
    "#    of at least one day (does NOT have to be a continuous period)\n",
    "\n",
    "def is_moist_LPS(df, name_of_RH_column='AvgRH'):\n",
    "    \n",
    "    # calculate the number of data points that have RH >= 85\n",
    "    cum_rh_points = df[name_of_RH_column].ge(85).sum()\n",
    "    \n",
    "    # calculate how much time 1 data point represents, in hours\n",
    "    hours_per_point = df['date'].diff().min().seconds / 3600\n",
    "    \n",
    "    # calculate how many points you'd need in order to sum to 24 hours\n",
    "    num_points_needed = 24 / hours_per_point\n",
    "    \n",
    "    # return whether the storm is a moist LPS (as True/False)\n",
    "    return cum_rh_points >= num_points_needed\n",
    "\n",
    "# a function to get all the moist LPS's from a dictionary of storms\n",
    "def get_all_moist_LPS(dic, name_of_RH_column='AvgRH'):\n",
    "    \n",
    "    return {key: df for key, df in dic.items() if (is_moist_LPS(df, name_of_RH_column))}"
   ]
  },
  {
   "cell_type": "markdown",
   "id": "c0b6bb00-be94-4f40-a41d-6dc3280b9c61",
   "metadata": {},
   "source": [
    "## Read data"
   ]
  },
  {
   "cell_type": "markdown",
   "id": "dd4e58f2-b7a7-48a1-a774-d4124f9102ab",
   "metadata": {
    "jp-MarkdownHeadingCollapsed": true,
    "tags": []
   },
   "source": [
    "### read MERRA2"
   ]
  },
  {
   "cell_type": "code",
   "execution_count": 9,
   "id": "29b708d4-f8d0-40dc-b9aa-3ecfe4295db8",
   "metadata": {},
   "outputs": [],
   "source": [
    "#pip install wget\n",
    "#import wget\n",
    "#!wget \"https://zenodo.org/record/3890646/files/LPS_Global_MERRA2.dat?download=1\" -O merra2data\n",
    "\n",
    "# the last line will save the file as 'merra2data' in the local directory"
   ]
  },
  {
   "cell_type": "code",
   "execution_count": 6,
   "id": "617a879e-1c81-42c7-9205-13ae05f60e7e",
   "metadata": {},
   "outputs": [],
   "source": [
    "column_names = [0, 'XGridCentre', 'YGridCentre', 'Longitude', 'Latitude', \n",
    "               'MinSF', 'MinSLP', 'PressureDrop', 'MaxSfcWind', 'AvgRH', 'MaxSfcGeoPt', 'LandSeaRatio', \n",
    "               'ACEPSL', 'ACE', 'PDI', 'IKE', 'Year', 'Month', 'Day', 'Hour']\n",
    "\n",
    "MERRA2 = read_vishnu_csv_to_dic('merra2data', column_names, 'MERRA2')"
   ]
  },
  {
   "cell_type": "code",
   "execution_count": 7,
   "id": "23761b62-2358-4895-beca-c4175fde33b4",
   "metadata": {},
   "outputs": [],
   "source": [
    "MERRA2 = add_datetime_to_dic(MERRA2) # dictionaries have no pipe funcionality :(\n",
    "MERRA2 = get_all_moist_LPS(MERRA2)"
   ]
  },
  {
   "cell_type": "code",
   "execution_count": 8,
   "id": "9e7cbda5-ff51-4551-947f-66a3955bc148",
   "metadata": {},
   "outputs": [
    {
     "data": {
      "text/plain": [
       "210"
      ]
     },
     "execution_count": 8,
     "metadata": {},
     "output_type": "execute_result"
    }
   ],
   "source": [
    "len(MERRA2)"
   ]
  },
  {
   "cell_type": "markdown",
   "id": "0aaa7a0b-9f4f-4492-b565-be5b49fde48c",
   "metadata": {
    "tags": []
   },
   "source": [
    "### read ERA5"
   ]
  },
  {
   "cell_type": "code",
   "execution_count": 6,
   "id": "7c300608-3a2a-4bdd-88f4-82886b9fc4e7",
   "metadata": {},
   "outputs": [],
   "source": [
    "# check with the ERA5 file from https://zenodo.org/record/3890646#.YobUJWCZO3J\n",
    "#import wget\n",
    "\n",
    "#!wget \"https://zenodo.org/record/3890646/files/LPS_Global_ERA5.dat?download=1\" -O era5data"
   ]
  },
  {
   "cell_type": "code",
   "execution_count": 7,
   "id": "764a1541-fa01-47c8-8017-ba97fdf2cbcb",
   "metadata": {},
   "outputs": [],
   "source": [
    "# ERA5_from_global_moist is exactly the same as ERA5\n",
    "\n",
    "# column_names = [0, 'XGridCentre', 'YGridCentre', 'Longitude', 'Latitude', \n",
    "#                'MinSF', 'MinSLP', 'PressureDrop', 'MaxSfcWind', 'AvgRH', 'MaxSfcGeoPt', 'LandSeaRatio', \n",
    "#                'ACEPSL', 'ACE', 'PDI', 'IKE', 'Year', 'Month', 'Day', 'Hour']\n",
    "\n",
    "# ERA5_from_global = read_vishnu_csv_to_dic('era5data', column_names)\n",
    "# ERA5_from_global = add_datetime_to_dic(ERA5_from_global)\n",
    "# ERA5_from_global_moist = get_all_moist_LPS(ERA5_from_global)"
   ]
  },
  {
   "cell_type": "code",
   "execution_count": 9,
   "id": "dde95a0c-a304-41f0-af47-e17ca4fae83f",
   "metadata": {},
   "outputs": [],
   "source": [
    "file_era5 = '../LPS_track_India_1979_2019_JJAS.txt'\n",
    "\n",
    "column_names = [0, 'XGridCentre', 'YGridCentre', 'Longitude', 'Latitude', \n",
    "               'MinSF', 'MinSLP', 'PressureDrop', 'MaxSfcWind', 'AvgRH', 'MaxSfcGeoPt', 'LandSeaRatio', \n",
    "               'ACEPSL', 'ACE', 'PDI', 'IKE', 'Year', 'Month', 'Day', 'Hour']\n",
    "\n",
    "ERA5 = read_vishnu_csv_to_dic(file_era5, column_names, 'ERA5')\n",
    "ERA5 = add_datetime_to_dic(ERA5)"
   ]
  },
  {
   "cell_type": "code",
   "execution_count": 10,
   "id": "bc7769eb-6dfc-4bf9-b552-c693a18b175b",
   "metadata": {},
   "outputs": [
    {
     "data": {
      "text/plain": [
       "160"
      ]
     },
     "execution_count": 10,
     "metadata": {},
     "output_type": "execute_result"
    }
   ],
   "source": [
    "len(ERA5)"
   ]
  },
  {
   "cell_type": "markdown",
   "id": "35b02cd0-ddd2-42f0-8311-e3c7f6346c03",
   "metadata": {},
   "source": [
    "Code to find any 'duplicate' dates:"
   ]
  },
  {
   "cell_type": "code",
   "execution_count": 88,
   "id": "a06e892f-bb60-4443-b660-ce4381ddd600",
   "metadata": {
    "tags": []
   },
   "outputs": [],
   "source": [
    "check_for_dups = []\n",
    "for key in ERA5:\n",
    "    check_for_dups.append(key[:8])"
   ]
  },
  {
   "cell_type": "code",
   "execution_count": 59,
   "id": "32e62347-bb4e-4ca5-b43e-7216da282949",
   "metadata": {
    "tags": []
   },
   "outputs": [
    {
     "name": "stdout",
     "output_type": "stream",
     "text": [
      "20120907\n",
      "20170715\n"
     ]
    }
   ],
   "source": [
    "dups1 = []\n",
    "for date in check_for_dups:\n",
    "    if date not in dups1:\n",
    "        dups1.append(date)\n",
    "    else:\n",
    "        print(date)"
   ]
  },
  {
   "cell_type": "markdown",
   "id": "50db78af-fe9a-48d8-b751-4af123858d25",
   "metadata": {},
   "source": [
    "Two dates in ERA5 are such that two systems have geneses on each of these dates. ERA5 has a total of 160 systems between 2007 and 2018 (including these 'duplicates').\n",
    "\n",
    "For IITM, each of these dates only has one corresponding file. So, IITM has a total of 158 files.\n",
    "\n",
    "For ECMWF, 21 of the ERA5 systems don't have a corresponding ECMWF file because the data was corrupted (as listed in `salilg/errorDates.txt`). Interestingly, one of the ones listed was 20170715. However, all necessary 20170715 files are present in the directory, and we have LPS_track files for that date. I am not sure how we ended up getting the corrupted files for that date. So, after disregarding that, we have 20 files listed in `errorDates.txt` that are corrupted.\n",
    "\n",
    "Additionally, there are 3 dates that are not listed in `salilg/errorDates.txt`, but for whom some data does not exist in `m3310/salilg`. These are:\n",
    "20120619: MSLP missing\n",
    "20140719: MSLP missing\n",
    "20160919: UVwindSurfaceVar missing\n",
    "These were also likely corrupted, but may not have been printed to the `errorDates.txt` file.\n",
    "\n",
    "So, 23 of the files were corrupted. Additionally, 20120907 and 20170715 each only had 1 corresponding file in ECMWF. So, we end up 160-23-2=135 files for ECMWF.\n",
    "\n",
    "However, we'll consider ERA5 to have 137 total tracks."
   ]
  },
  {
   "cell_type": "code",
   "execution_count": 66,
   "id": "1b371ac1-f29e-4efa-8ddd-3ad4bc4f1b6b",
   "metadata": {
    "tags": []
   },
   "outputs": [],
   "source": [
    "f = open('../errorDates.txt', 'r')\n",
    "lines = f.readlines()\n",
    "f.close()"
   ]
  },
  {
   "cell_type": "code",
   "execution_count": 71,
   "id": "5ca90670-0c5d-42df-8b61-308e67ae8ea2",
   "metadata": {
    "tags": []
   },
   "outputs": [],
   "source": [
    "import re"
   ]
  },
  {
   "cell_type": "code",
   "execution_count": 77,
   "id": "dbeb79cb-86ba-44a5-9ef3-f2a1d8221cc0",
   "metadata": {
    "tags": []
   },
   "outputs": [],
   "source": [
    "error_dates = []\n",
    "for line in lines:\n",
    "    error_dates += re.findall(r'\\d+', line)"
   ]
  },
  {
   "cell_type": "code",
   "execution_count": 89,
   "id": "80a505eb-a071-40c4-968d-ccc19aa2c1dc",
   "metadata": {
    "tags": []
   },
   "outputs": [],
   "source": [
    "# set(error_dates) # only 21 dates between 2007 and 2018"
   ]
  },
  {
   "cell_type": "code",
   "execution_count": 84,
   "id": "6fe00e37-c41f-4bfc-83d6-e67f604a08c3",
   "metadata": {
    "collapsed": true,
    "jupyter": {
     "outputs_hidden": true
    },
    "tags": []
   },
   "outputs": [
    {
     "data": {
      "text/plain": [
       "23"
      ]
     },
     "execution_count": 84,
     "metadata": {},
     "output_type": "execute_result"
    }
   ],
   "source": [
    "ECMWF_missing = []\n",
    "for date in check_for_dups:\n",
    "    if date not in ECMWF_dates:\n",
    "        ECMWF_missing.append(date)\n",
    "len(ECMWF_missing)"
   ]
  },
  {
   "cell_type": "code",
   "execution_count": 85,
   "id": "9f13faad-4540-4f1a-8bad-cc951c96ab00",
   "metadata": {
    "collapsed": true,
    "jupyter": {
     "outputs_hidden": true
    },
    "tags": []
   },
   "outputs": [
    {
     "data": {
      "text/plain": [
       "['20120619', '20140719', '20160919']"
      ]
     },
     "execution_count": 85,
     "metadata": {},
     "output_type": "execute_result"
    }
   ],
   "source": [
    "[x for x in ECMWF_missing if x not in set(error_dates)]"
   ]
  },
  {
   "cell_type": "markdown",
   "id": "145a7027-1440-473b-bb58-71aadbf66a79",
   "metadata": {
    "jp-MarkdownHeadingCollapsed": true,
    "tags": []
   },
   "source": [
    "### helper functions to load model data"
   ]
  },
  {
   "cell_type": "code",
   "execution_count": 91,
   "id": "8bb32ecf-80e6-463e-8230-6f5145e3ebc6",
   "metadata": {},
   "outputs": [],
   "source": [
    "#common_hits is a list containing the names of systems (i.e. the date of their (observation) genesis as \n",
    "#a string) that were hits in both\n",
    "#IITM and in ECMWF\n",
    "\n",
    "#%store -r commonSystems #all common systems, not just hits. But we compare only hits, \n",
    "#so this would lead to an unequal comparison\n",
    "#%store -r common_hits"
   ]
  },
  {
   "cell_type": "code",
   "execution_count": 14,
   "id": "664b6370-8917-45b2-80c3-64e5f442c1d4",
   "metadata": {},
   "outputs": [],
   "source": [
    "# NEED TO UPDATE THIS EXPLANATION\n",
    "# get only hits\n",
    "# explanation: we only got the files for the 102 systems that had hits in both models,\n",
    "#    but for each system, the model can have several predicted tracks. So, we want to go through\n",
    "#    and only keep the first such track that is a hit (if there are multiple hits, only the first\n",
    "#    is kept.\n",
    "\n",
    "# Issues with the LPS_track files:\n",
    "#    1. sometimes, for the same system, different tracks have the same genesis date\n",
    "#    2. tracks can have the genesis point be a hit point, or a non-genesis point (within 24 hours\n",
    "#       of genesis) be a hit point"
   ]
  },
  {
   "cell_type": "code",
   "execution_count": 11,
   "id": "265f60d0-c098-4942-af4e-346702054630",
   "metadata": {},
   "outputs": [],
   "source": [
    "import math"
   ]
  },
  {
   "cell_type": "code",
   "execution_count": 12,
   "id": "7747c928-7eed-4b49-8d74-4dca1afd1327",
   "metadata": {},
   "outputs": [],
   "source": [
    "def get_mean_distance(df1, df2):\n",
    "    dlon = np.abs(df1['Longitude'].values - df2['Longitude'].values)\n",
    "    dlat = np.abs(df1['Latitude'].values - df2['Latitude'].values)\n",
    "    dlon[dlon > 180] = 360 - dlon[dlon > 180]\n",
    "    dist = np.sqrt(dlat**2 + dlon**2)\n",
    "    dist = np.mean(dist)\n",
    "    #dist = moving_average(dist,5) # 5 time steps : 1 day\n",
    "    #dist = np.amin(dist) # if mean dist < 3 for 1 day\n",
    "    return dist"
   ]
  },
  {
   "cell_type": "code",
   "execution_count": 13,
   "id": "12603ca5-eb26-48ee-ba9e-a4af95eb4b35",
   "metadata": {
    "tags": []
   },
   "outputs": [],
   "source": [
    "# given a model and observation, check whether the model is a hit\n",
    "# a model is defined to be a 'hit' if it has a point, within the first 24 hours of its genesis,\n",
    "#    that is inside a 5-degree radius of the observed track at that time.\n",
    "\n",
    "def check_for_hit(model, obs, downsample=False):\n",
    "    \n",
    "    # need to downsample IITM to 6-hourly\n",
    "    if downsample:\n",
    "        mask_downsample = (model['date'].dt.hour % 6 == 0) # downsample to 6-hourly\n",
    "        model = model.loc[mask_downsample]\n",
    "    \n",
    "    overlap_model = model[model['date'].isin(obs['date'])] # df only has data about model\n",
    "    overlap_obs = obs[obs['date'].isin(overlap_model['date'])] # df has data about obs\n",
    "    \n",
    "    if overlap_model.empty: # if there is no overlap\n",
    "        return False\n",
    "        \n",
    "    overlap_timedelta = overlap_model['date'].iloc[-1] - overlap_model['date'].iloc[0]\n",
    "    overlap_hours = overlap_timedelta.total_seconds() / 3600\n",
    "    \n",
    "    mean_distance = get_mean_distance(overlap_model, overlap_obs)\n",
    "    \n",
    "    mean_distance_first_two_points = get_mean_distance(overlap_model.iloc[:2],\n",
    "                                                       overlap_obs.iloc[:2]\n",
    "                                                      )\n",
    "    \n",
    "    overlap_obs_time_since_gen = (overlap_obs['date'].iloc[0] - obs['date'].iloc[0]).total_seconds()/3600\n",
    "    \n",
    "    # below is this a matching criterion from Vishnu et al 2020\n",
    "    # if overlap_hours >= 24 and mean_distance <= 3:\n",
    "    #     return True\n",
    "    \n",
    "    # below this is a matching criterion from Deoras et al 2021\n",
    "    if mean_distance_first_two_points < 5 and overlap_obs_time_since_gen < 72:\n",
    "        return True\n",
    "    else:\n",
    "        return False\n",
    "        "
   ]
  },
  {
   "cell_type": "code",
   "execution_count": 14,
   "id": "34490d22-283d-4fea-a891-f66ea3b9fbe0",
   "metadata": {},
   "outputs": [],
   "source": [
    "def load_model_data(date, possible_model_tracks, model_dic, obs, obs_name, downsample=False):\n",
    "    \n",
    "    matching_obs_keys = [x for x in list(obs.keys()) if x[:8]==date]\n",
    "    \n",
    "    for obs_key in matching_obs_keys:\n",
    "        \n",
    "        for model_key, model_df in possible_model_tracks.items():\n",
    "            \n",
    "            # get first matching track\n",
    "            if check_for_hit(model_df, obs[obs_key], downsample=downsample):\n",
    "                \n",
    "                model_df[obs_name+' key'] = pd.Series(obs_key, index=model_df.index)\n",
    "                model_dic[model_key] = model_df\n",
    "                break\n",
    "        \n",
    "        # don't break out of the outer for loop. It is designed for any dates in ERA5\n",
    "        #    that are 'duplicated', i.e., where 2 ERA5 systems have geneses on the same data.\n",
    "        # It turns out that ECMWF has matching tracks for both the systems on\n",
    "        #    both the dates in ERA5 that have 'duplicate' systems. "
   ]
  },
  {
   "cell_type": "code",
   "execution_count": 15,
   "id": "149f40ef-2c18-418b-9af8-652b40233c5a",
   "metadata": {},
   "outputs": [],
   "source": [
    "# this is just to analyze the scenario where there are multiple model hits per ERA5 track\n",
    "def get_num_multiple_hits(date, possible_model_tracks, obs, count_multiple_hits):\n",
    "    \n",
    "    matching_obs_keys = [x for x in list(obs.keys()) if x[:8]==date]\n",
    "    if len(matching_obs_keys) > 1:\n",
    "        print('multiple matching obs keys', date, matching_obs_keys)\n",
    "    \n",
    "    num_multiple_hits = 0\n",
    "    for obs_key in matching_obs_keys:\n",
    "        \n",
    "        for model_key, model_df in possible_model_tracks.items():\n",
    "            \n",
    "            if check_for_hit(model_df, obs[obs_key]):\n",
    "                num_multiple_hits += 1\n",
    "    \n",
    "    if date in count_multiple_hits and num_multiple_hits > 1:\n",
    "        count_multiple_hits[date + ' dup'] = num_multiple_hits\n",
    "    elif num_multiple_hits > 1:\n",
    "        count_multiple_hits[date] = num_multiple_hits"
   ]
  },
  {
   "cell_type": "code",
   "execution_count": 16,
   "id": "24876df6-17e7-425d-adb7-c82ffca42e6a",
   "metadata": {},
   "outputs": [],
   "source": [
    "#all IITM file dates are observed date + 1; so moving back one day here to return observed date\n",
    "#can compare return value with ECMWF dates and they will match\n",
    "\n",
    "def changeIITMFileDate(filedate):\n",
    "    original = datetime(int(filedate[:4]), int(filedate[4:6]), int(filedate[6:8]))\n",
    "    new = original - timedelta(1)\n",
    "    return str(new.year).zfill(4) + str(new.month).zfill(2) + str(new.day).zfill(2)"
   ]
  },
  {
   "cell_type": "markdown",
   "id": "84797416-2da1-4a56-849e-72e58bcf2b23",
   "metadata": {
    "jp-MarkdownHeadingCollapsed": true,
    "tags": []
   },
   "source": [
    "### find which track file dates are common between the models"
   ]
  },
  {
   "cell_type": "markdown",
   "id": "cc8980f5-117d-4170-8ecb-412a845085d0",
   "metadata": {},
   "source": [
    "So currently we are using the new IITM data (obtained by taking `LPS_candidate` files that Vishnu had, running tempestextremes' `StitchNodes` on them to obtain `LPS_output` files. Note: can't get `LPS_track` files just yet because we need MSLP data for that.\n",
    "\n",
    "Old code (to read the old IITM `LPS_track` files has currently just been commented out. Won't delete that till we're certain about this approach.\n",
    "\n",
    "Note: Vishnu's IITM candidate files all are named with dates 1 day behind ERA5 genesis dates. However, the 2011 file have dates that match the ERA5 genesis dates."
   ]
  },
  {
   "cell_type": "code",
   "execution_count": 17,
   "id": "f6681432-e274-4ddc-9e93-01a47f9b577a",
   "metadata": {},
   "outputs": [],
   "source": [
    "# get a common set of ERA5 dates to take model files from\n",
    "\n",
    "# find out which files ECMWF has\n",
    "years = ['2007', '2008', '2009', '2010', '2011', '2012', '2013', '2014', '2015', '2016', \n",
    "         '2017', '2018']\n",
    "ECMWF_dates = []\n",
    "for year in years: \n",
    "    for outputfile in sorted(os.listdir('/global/project/projectdirs/m3310/salilg/' + year)):\n",
    "        date = outputfile[-12:-4]\n",
    "        if (#date in common_hits and\n",
    "            outputfile.startswith('LPS_track_')):\n",
    "            ECMWF_dates.append(date)\n",
    "\n",
    "# find out which files IITM has\n",
    "IITM_dates = []\n",
    "\n",
    "folder_path = '/global/homes/s/salilg/pandasNewCode/tempest_extremes/iitm_output_files_salil/'\n",
    "for outputfile in sorted(os.listdir(folder_path)):\n",
    "    if outputfile.startswith('LPS_dslp_output'):\n",
    "        \n",
    "        fileDate = outputfile[16:24]\n",
    "        # all IITM file dates except 2011 ones are observed date + 1; \n",
    "        # so moving back one day here to match with ERA5 file dates\n",
    "        if fileDate[:4]!='2011':\n",
    "            date = changeIITMFileDate(fileDate)\n",
    "        else:\n",
    "            date=fileDate\n",
    "        IITM_dates.append(date)\n",
    "\n",
    "# get the common ones\n",
    "\n",
    "# len(ECMWF_dates), len(IITM_dates)\n",
    "# ECMWF_dates is a proper subset of IITM_dates\n",
    "common_files_to_read = [x for x in ECMWF_dates if x in IITM_dates]"
   ]
  },
  {
   "cell_type": "code",
   "execution_count": 18,
   "id": "bb55183b-f495-4274-b8d9-bf5055b3dca4",
   "metadata": {},
   "outputs": [
    {
     "data": {
      "text/plain": [
       "135"
      ]
     },
     "execution_count": 18,
     "metadata": {},
     "output_type": "execute_result"
    }
   ],
   "source": [
    "len(common_files_to_read)"
   ]
  },
  {
   "cell_type": "markdown",
   "id": "5068bf80-d901-4219-817c-ed5eef1bbba8",
   "metadata": {
    "jp-MarkdownHeadingCollapsed": true,
    "tags": []
   },
   "source": [
    "### read ECMWF"
   ]
  },
  {
   "cell_type": "code",
   "execution_count": 19,
   "id": "d875a4a7-b4c0-47b4-818e-c09d4c63b4f2",
   "metadata": {},
   "outputs": [],
   "source": [
    "years = ['2007', '2008', '2009', '2010', '2011', '2012', '2013', '2014', '2015', '2016', \n",
    "         '2017', '2018']\n",
    "\n",
    "ECMWF = {}\n",
    "ntotal_ecmwf = 0\n",
    "nempty_ecmwf = 0\n",
    "# ECMWF_multiple_hits = {} # just to check multiple model hits per ERA5 hit\n",
    "\n",
    "column_names = [0, 'XGridCentre', 'YGridCentre', 'Longitude', 'Latitude', \n",
    "                'MinSF', 'MinSLP', 'PressureDrop', 'MaxSfcWind', 'AvgRH', 'MaxSfcGeoPt', 'Year', \n",
    "                'Month', 'Day', 'Hour']\n",
    "\n",
    "# this loop runs for each year between 2007 and 2018 (2019 didn't have any common hits)\n",
    "folderpath = '/global/project/projectdirs/m3310/salilg/'\n",
    "for year in years: \n",
    "    for outputfile in sorted(os.listdir(folderpath + year)):\n",
    "        \n",
    "        date = outputfile[-12:-4]\n",
    "        \n",
    "        #if (date in common_files_to_read and outputfile.startswith('LPS_track_')):\n",
    "        if (outputfile.startswith('LPS_track_')) and date in common_files_to_read:\n",
    "            \n",
    "            if os.stat(folderpath + year + '/' + outputfile).st_size == 0:\n",
    "                nempty_ecmwf += 1\n",
    "            \n",
    "            else:\n",
    "            \n",
    "                file = folderpath + year + '/' + outputfile\n",
    "\n",
    "                #matching_era5_keys = [x for x in list(ERA5.keys()) if x[:8]==date]\n",
    "\n",
    "                possible_model_tracks = add_datetime_to_dic(\n",
    "                    read_vishnu_csv_to_dic(file, column_names, 'ECMWF')\n",
    "                )\n",
    "\n",
    "                # UNCOMMENT THIS FOR REAL RUNNING\n",
    "                load_model_data(date, possible_model_tracks, ECMWF, ERA5, obs_name='ERA5')\n",
    "\n",
    "                # get_num_multiple_hits(date, possible_model_tracks, ERA5, ECMWF_multiple_hits)\n",
    "                \n",
    "            ntotal_ecmwf += 1"
   ]
  },
  {
   "cell_type": "code",
   "execution_count": 20,
   "id": "277dfac3-94e3-4518-ae5e-ff88ddb9c4a1",
   "metadata": {},
   "outputs": [
    {
     "data": {
      "text/plain": [
       "(117, 2, 135)"
      ]
     },
     "execution_count": 20,
     "metadata": {},
     "output_type": "execute_result"
    }
   ],
   "source": [
    "len(ECMWF), nempty_ecmwf, ntotal_ecmwf"
   ]
  },
  {
   "cell_type": "code",
   "execution_count": 30,
   "id": "162bb082-05de-4095-8bce-320753f8f19f",
   "metadata": {
    "jupyter": {
     "source_hidden": true
    },
    "tags": []
   },
   "outputs": [],
   "source": [
    "# get ECMWF and ERA5 keys based on just yyyymmdd\n",
    "\n",
    "def get_keys_from_date(date):\n",
    "    \n",
    "    ECMWF_key = [x for x in ECMWF if ECMWF[x]['ERA5 key'].iloc[0][:8]==date]\n",
    "    if len(ECMWF_key)>1:\n",
    "        print('more than 1 key', ECMWF_key)\n",
    "    else:\n",
    "        ECMWF_key = ECMWF_key[0]\n",
    "        \n",
    "    ERA5_key = ECMWF[ECMWF_key]['ERA5 key'].iloc[0]\n",
    "    \n",
    "    return ECMWF_key, ERA5_key\n",
    "\n",
    "# example of use:\n",
    "# keys = get_keys_from_date('20090925')\n",
    "# df1 = ECMWF[keys[0]]\n",
    "# df2 = ERA5[keys[1]]\n",
    "\n",
    "\n",
    "# check_for_hit(df1, df2), check_for_hit_old(df1, df2)\n",
    "# overlap1 = df1[df1['date'].isin(df2['date'])]\n",
    "# overlap2 = df2[df2['date'].isin(df1['date'])]\n",
    "# get_mean_distance(overlap1, overlap2)\n",
    "# plot(df1, df2)"
   ]
  },
  {
   "cell_type": "markdown",
   "id": "291f422d-9bb5-4ad3-aaa1-fa5f4f4c9122",
   "metadata": {
    "jp-MarkdownHeadingCollapsed": true,
    "tags": []
   },
   "source": [
    "### read `./tempest_extremes/iitm_output_files_salil` files (NOT NEEDED NOW)"
   ]
  },
  {
   "cell_type": "markdown",
   "id": "ba499c6c-56d1-4dc2-b070-18305650bcb0",
   "metadata": {},
   "source": [
    "Motivation: When we had temporarily did not have access to all of Vishnu's data, he send over some `LPS_candidate` files, from which we created `LPS_output` files. However, we weren't sure whether this was done in exactly the way that Vishnu had done or not. We were later able to get access to all of Vishnu's files from the IITM Aaditya file system, so using that now. Skip this section then."
   ]
  },
  {
   "cell_type": "code",
   "execution_count": 25,
   "id": "3b4addf8-5949-4089-90eb-d34e7782d9bc",
   "metadata": {},
   "outputs": [],
   "source": [
    "IITM = {}\n",
    "nempty_iitm = 0\n",
    "ntotal_iitm = 0\n",
    "\n",
    "column_names = [0, 'XGridCentre', 'YGridCentre', 'Longitude', 'Latitude', 'MinSF', 'MinSLP', 'AvgRH', \n",
    "                'MaxSfcGeoPt', 'MaxSfcWind', 'minmslix', 'Year', 'Month', 'Day', 'Hour']\n",
    "\n",
    "folder_path = '/global/homes/s/salilg/pandasNewCode/tempest_extremes/iitm_output_files_salil/'\n",
    "for outputfile in sorted(os.listdir(folder_path)):\n",
    "    if outputfile.startswith('LPS_dslp_output'):\n",
    "        \n",
    "        fileDate = outputfile[16:24]\n",
    "        # all IITM file dates (except 2011) are observed date + 1; \n",
    "        # so moving back one day here to match with ERA5 file dates\n",
    "        if fileDate[:4]=='2011':\n",
    "            date=fileDate\n",
    "        else:\n",
    "            date = changeIITMFileDate(fileDate)\n",
    "        \n",
    "        # only read the 135 files that ECMWF also has forecasts for\n",
    "        # IITM has a total of 158 files, but for 23 of those dates, the ECMWF data was corrupted\n",
    "        if date in common_files_to_read:\n",
    "\n",
    "            file = folder_path + outputfile\n",
    "\n",
    "            if os.stat(file).st_size == 0:\n",
    "                nempty_iitm += 1\n",
    "\n",
    "            else:\n",
    "                possible_model_tracks = add_datetime_to_dic(\n",
    "                    read_vishnu_csv_to_dic(file, column_names, 'IITM')\n",
    "                                                )\n",
    "\n",
    "                load_model_data(date, possible_model_tracks, IITM, ERA5, 'ERA5', downsample=True)\n",
    "\n",
    "            ntotal_iitm += 1"
   ]
  },
  {
   "cell_type": "code",
   "execution_count": 26,
   "id": "f0f6ed28-d8cc-469a-994e-60d1581fe28e",
   "metadata": {},
   "outputs": [
    {
     "data": {
      "text/plain": [
       "(90, 9, 135)"
      ]
     },
     "execution_count": 26,
     "metadata": {},
     "output_type": "execute_result"
    }
   ],
   "source": [
    "len(IITM), nempty_iitm, ntotal_iitm"
   ]
  },
  {
   "cell_type": "markdown",
   "id": "f3650156-4341-47dc-a178-36a597bf7216",
   "metadata": {
    "tags": []
   },
   "source": [
    "#### some plotting to see why IITM only had 90 matches (skip this too)"
   ]
  },
  {
   "cell_type": "code",
   "execution_count": 138,
   "id": "31f13299-859d-4707-b37a-1b1c89391004",
   "metadata": {},
   "outputs": [],
   "source": [
    "all_IITM_tracks = {}\n",
    "\n",
    "column_names = [0, 'XGridCentre', 'YGridCentre', 'Longitude', 'Latitude', 'MinSF', 'MinSLP', 'AvgRH', \n",
    "                'MaxSfcGeoPt', 'MaxSfcWind', 'minmslix', 'Year', 'Month', 'Day', 'Hour']\n",
    "\n",
    "folder_path = '/global/homes/s/salilg/pandasNewCode/tempest_extremes/iitm_output_files_salil/'\n",
    "for outputfile in sorted(os.listdir(folder_path)):\n",
    "    if outputfile.startswith('LPS_dslp_output'):\n",
    "        \n",
    "        fileDate = outputfile[16:24]\n",
    "        # all IITM file dates (except 2011) are observed date + 1; \n",
    "        # so moving back one day here to match with ERA5 file dates\n",
    "        if fileDate[:4]=='2011':\n",
    "            date=fileDate\n",
    "        else:\n",
    "            date = changeIITMFileDate(fileDate)\n",
    "        \n",
    "        # only read the 135 files that ECMWF also has forecasts for\n",
    "        # IITM has a total of 158 files, but for 23 of those dates, the ECMWF data was corrupted\n",
    "        if date in common_files_to_read:\n",
    "\n",
    "            file = folder_path + outputfile\n",
    "\n",
    "            if os.stat(file).st_size == 0:\n",
    "                nempty_iitm += 1\n",
    "\n",
    "            else:\n",
    "                possible_model_tracks = add_datetime_to_dic(\n",
    "                    read_vishnu_csv_to_dic(file, column_names, 'IITM')\n",
    "                                                )\n",
    "                \n",
    "                for key,df in possible_model_tracks.items():\n",
    "                    all_IITM_tracks[key] = df"
   ]
  },
  {
   "cell_type": "code",
   "execution_count": 139,
   "id": "e04719c1-541e-40e9-9759-8b173e16736e",
   "metadata": {},
   "outputs": [
    {
     "data": {
      "text/plain": [
       "212"
      ]
     },
     "execution_count": 139,
     "metadata": {},
     "output_type": "execute_result"
    }
   ],
   "source": [
    "len(all_IITM_tracks)"
   ]
  },
  {
   "cell_type": "code",
   "execution_count": 180,
   "id": "7a75e4ed-3088-4ba6-b773-488747469ad9",
   "metadata": {},
   "outputs": [],
   "source": [
    "# keys = IITM keys, values = corresponding ERA5 keys\n",
    "IITM_misses = {}\n",
    "n = 0\n",
    "\n",
    "column_names = [0, 'XGridCentre', 'YGridCentre', 'Longitude', 'Latitude', 'MinSF', 'MinSLP', 'AvgRH', \n",
    "                'MaxSfcGeoPt', 'MaxSfcWind', 'minmslix', 'Year', 'Month', 'Day', 'Hour']\n",
    "\n",
    "folder_path = '/global/homes/s/salilg/pandasNewCode/tempest_extremes/iitm_output_files_salil/'\n",
    "for outputfile in sorted(os.listdir(folder_path)):\n",
    "    if outputfile.startswith('LPS_dslp_output'):\n",
    "        \n",
    "        fileDate = outputfile[16:24]\n",
    "        # all IITM file dates (except 2011) are observed date + 1; \n",
    "        # so moving back one day here to match with ERA5 file dates\n",
    "        if fileDate[:4]=='2011':\n",
    "            date=fileDate\n",
    "        else:\n",
    "            date = changeIITMFileDate(fileDate)\n",
    "        \n",
    "        # only read the 135 files that ECMWF also has forecasts for\n",
    "        # IITM has a total of 158 files, but for 23 of those dates, the ECMWF data was corrupted\n",
    "        if date in common_files_to_read:\n",
    "\n",
    "            file = folder_path + outputfile\n",
    "\n",
    "            if os.stat(file).st_size == 0:\n",
    "                nempty_iitm += 1\n",
    "\n",
    "            else:\n",
    "                possible_model_tracks = add_datetime_to_dic(\n",
    "                    read_vishnu_csv_to_dic(file, column_names, 'IITM')\n",
    "                                                )\n",
    "                \n",
    "                hit_obtained = False\n",
    "                \n",
    "                \n",
    "                matching_obs_keys = [x for x in list(ERA5.keys()) if x[:8]==date]\n",
    "\n",
    "                for obs_key in matching_obs_keys:\n",
    "                    for key,df in possible_model_tracks.items():\n",
    "                        # get first matching track\n",
    "                        if check_for_hit(df, ERA5[obs_key], downsample=True):  \n",
    "                            hit_obtained = True\n",
    "                            break\n",
    "                            \n",
    "                if hit_obtained==False:\n",
    "                    for obs_key in matching_obs_keys:\n",
    "                        obs = ERA5[obs_key]\n",
    "                        for key,df in possible_model_tracks.items():\n",
    "                            overlap_model = df[df['date'].isin(obs['date'])] \n",
    "                            overlap_obs = obs[obs['date'].isin(overlap_model['date'])] \n",
    "                            if overlap_model.empty: # if there is no overlap\n",
    "                                mean_distance_two_points = 9999\n",
    "                                overlap_hours = 9999\n",
    "                                overlap_obs_time_since_gen = 9999\n",
    "                            else:\n",
    "                                overlap_timedelta = (overlap_model['date'].iloc[-1] - \n",
    "                                                     overlap_model['date'].iloc[0])\n",
    "                                overlap_hours = overlap_timedelta.total_seconds() / 3600\n",
    "\n",
    "                                mean_distance_two_points = get_mean_distance(overlap_model.iloc[:2],\n",
    "                                                                                   overlap_obs.iloc[:2]\n",
    "                                                                                  )\n",
    "                                overlap_obs_time_since_gen = (overlap_obs['date'].iloc[0] - \n",
    "                                                              obs['date'].iloc[0]).total_seconds()/3600\n",
    "\n",
    "\n",
    "                            IITM_misses[key] = [obs_key, mean_distance_two_points, overlap_hours,\n",
    "                                               overlap_obs_time_since_gen]\n",
    "                            n += 1"
   ]
  },
  {
   "cell_type": "code",
   "execution_count": 181,
   "id": "83b939d1-b989-4f50-9ab8-0d9a113c44b8",
   "metadata": {},
   "outputs": [
    {
     "data": {
      "text/plain": [
       "(48, 48)"
      ]
     },
     "execution_count": 181,
     "metadata": {},
     "output_type": "execute_result"
    }
   ],
   "source": [
    "# hmm we should have 135-9 empty = 126 files, out of which 90 have hit tracks\n",
    "# so 36 files with no hits, 48 total tracks amongst them? Sounds reasonable\n",
    "len(IITM_misses), n"
   ]
  },
  {
   "cell_type": "code",
   "execution_count": 187,
   "id": "cc4399c2-9b76-4137-8033-b23ac4aa71e4",
   "metadata": {},
   "outputs": [
    {
     "data": {
      "image/png": "[encoded data removed]",
      "text/plain": [
       "<Figure size 432x432 with 1 Axes>"
      ]
     },
     "metadata": {
      "needs_background": "light"
     },
     "output_type": "display_data"
    },
    {
     "data": {
      "image/png": "[encoded data removed]",
      "text/plain": [
       "<Figure size 432x432 with 1 Axes>"
      ]
     },
     "metadata": {
      "needs_background": "light"
     },
     "output_type": "display_data"
    },
    {
     "data": {
      "image/png": "[encoded data removed]",
      "text/plain": [
       "<Figure size 432x432 with 1 Axes>"
      ]
     },
     "metadata": {
      "needs_background": "light"
     },
     "output_type": "display_data"
    },
    {
     "data": {
      "image/png": "[encoded data removed]",
      "text/plain": [
       "<Figure size 432x432 with 1 Axes>"
      ]
     },
     "metadata": {
      "needs_background": "light"
     },
     "output_type": "display_data"
    },
    {
     "data": {
      "image/png": "[encoded data removed]",
      "text/plain": [
       "<Figure size 432x432 with 1 Axes>"
      ]
     },
     "metadata": {
      "needs_background": "light"
     },
     "output_type": "display_data"
    },
    {
     "data": {
      "image/png": "[encoded data removed]",
      "text/plain": [
       "<Figure size 432x432 with 1 Axes>"
      ]
     },
     "metadata": {
      "needs_background": "light"
     },
     "output_type": "display_data"
    },
    {
     "data": {
      "image/png": "[encoded data removed]",
      "text/plain": [
       "<Figure size 432x432 with 1 Axes>"
      ]
     },
     "metadata": {
      "needs_background": "light"
     },
     "output_type": "display_data"
    },
    {
     "data": {
      "image/png": "[encoded data removed]",
      "text/plain": [
       "<Figure size 432x432 with 1 Axes>"
      ]
     },
     "metadata": {
      "needs_background": "light"
     },
     "output_type": "display_data"
    },
    {
     "data": {
      "image/png": "[encoded data removed]",
      "text/plain": [
       "<Figure size 432x432 with 1 Axes>"
      ]
     },
     "metadata": {
      "needs_background": "light"
     },
     "output_type": "display_data"
    },
    {
     "data": {
      "image/png": "[encoded data removed]",
      "text/plain": [
       "<Figure size 432x432 with 1 Axes>"
      ]
     },
     "metadata": {
      "needs_background": "light"
     },
     "output_type": "display_data"
    },
    {
     "data": {
      "image/png": "[encoded data removed]",
      "text/plain": [
       "<Figure size 432x432 with 1 Axes>"
      ]
     },
     "metadata": {
      "needs_background": "light"
     },
     "output_type": "display_data"
    }
   ],
   "source": [
    "count = 0\n",
    "for iitm_key, l in IITM_misses.items():\n",
    "    era5_key, mean_dist, overlap_hrs, time_since_gen = l\n",
    "    if 35 <= count <= 45:\n",
    "        plot(all_IITM_tracks[iitm_key], ERA5[era5_key], round(mean_dist,2), overlap_hrs,\n",
    "            time_since_gen)\n",
    "    count += 1"
   ]
  },
  {
   "cell_type": "code",
   "execution_count": 148,
   "id": "c9c885e7-bf71-4cf8-be4e-c4185918e2c2",
   "metadata": {},
   "outputs": [
    {
     "data": {
      "text/plain": [
       "{'20070804-0-79.0-27.125': '20070803-8-89.75-19.5',\n",
       " '20070815-6-88.375-25.0': '20070809-22-90.25-18.75',\n",
       " '20070829-6-77.125-25.125': '20070823-21-82.25-18.5',\n",
       " '20090719-0-89.0-20.625': '20090711-11-86.0-24.0',\n",
       " '20090718-3-88.875-20.375': '20090717-7-71.25-22.25',\n",
       " '20090723-18-77.875-26.25': '20090717-7-71.25-22.25',\n",
       " '20090820-6-84.25-26.25': '20090814-14-83.75-24.0',\n",
       " '20090903-21-88.375-19.75': '20090830-19-84.5-17.5',\n",
       " '20090927-15-99.75-15.25': '20090925-22-87.5-16.25',\n",
       " '20100625-6-88.125-24.375': '20100616-3-72.25-19.75',\n",
       " '20100629-9-82.25-24.25': '20100623-6-87.75-21.0',\n",
       " '20100724-0-70.5-24.375': '20100723-22-88.0-21.5',\n",
       " '20100829-0-70.75-22.0': '20100828-14-75.75-20.5',\n",
       " '20100904-12-77.0-26.625': '20100828-14-75.75-20.5',\n",
       " '20100903-6-71.25-25.75': '20100902-3-86.75-17.75',\n",
       " '20100906-3-88.25-21.25': '20100902-3-86.75-17.75',\n",
       " '20100910-3-73.25-26.625': '20100902-3-86.75-17.75',\n",
       " '20100913-0-71.625-26.125': '20100912-22-83.25-14.75',\n",
       " '20100918-3-87.0-20.0': '20100912-22-83.25-14.75',\n",
       " '20110607-0-71.125-17.75': '20110607-4-89.5-18.75',\n",
       " '20110811-0-72.375-25.0': '20110811-10-88.25-22.25',\n",
       " '20110814-18-75.0-26.5': '20110811-10-88.25-22.25',\n",
       " '20110817-15-76.125-28.625': '20110811-10-88.25-22.25',\n",
       " '20110904-0-73.125-24.25': '20110904-7-87.0-20.75',\n",
       " '20110910-15-78.75-25.375': '20110904-7-87.0-20.75',\n",
       " '20110912-0-71.875-21.625': '20110912-18-86.75-16.5',\n",
       " '20110917-15-82.0-23.375': '20110912-18-86.75-16.5',\n",
       " '20120707-6-80.375-25.0': '20120701-0-88.0-20.25',\n",
       " '20120903-0-80.125-25.25': '20120824-10-92.25-18.25',\n",
       " '20120917-18-96.0-15.375': '20120914-19-82.5-26.75',\n",
       " '20120919-15-83.375-22.5': '20120914-19-82.5-26.75',\n",
       " '20130603-3-85.5-13.5': '20130602-10-93.0-14.5',\n",
       " '20130616-3-69.875-20.75': '20130610-10-64.5-22.0',\n",
       " '20130616-21-87.5-19.375': '20130610-10-64.5-22.0',\n",
       " '20130628-9-83.375-25.625': '20130621-6-91.0-20.0',\n",
       " '20130720-6-87.75-19.125': '20130713-23-82.75-23.0',\n",
       " '20130811-15-83.0-23.75': '20130804-2-89.5-17.25',\n",
       " '20130821-18-84.75-22.375': '20130812-18-78.75-24.25',\n",
       " '20130919-9-80.125-17.5': '20130918-4-88.75-20.5',\n",
       " '20140714-6-87.0-19.625': '20140710-2-87.0-20.0',\n",
       " '20140801-18-83.0-23.5': '20140731-7-69.75-21.75',\n",
       " '20140809-15-79.75-26.0': '20140808-3-89.75-21.5',\n",
       " '20140926-0-76.25-6.375': '20140925-10-76.25-8.75',\n",
       " '20150619-6-88.0-16.375': '20150614-9-81.0-21.5',\n",
       " '20150708-0-90.125-21.375': '20150707-22-84.75-24.25',\n",
       " '20150718-21-87.125-24.0': '20150717-20-79.75-26.0',\n",
       " '20160903-3-87.75-23.5': '20160827-6-82.75-14.25',\n",
       " '20180912-12-84.75-25.25': '20180904-17-88.0-22.25'}"
      ]
     },
     "execution_count": 148,
     "metadata": {},
     "output_type": "execute_result"
    }
   ],
   "source": [
    "IITM_misses"
   ]
  },
  {
   "cell_type": "markdown",
   "id": "86c2ebed-8d61-4e57-b3a5-8a058ac522ef",
   "metadata": {
    "tags": []
   },
   "source": [
    "### read IITM"
   ]
  },
  {
   "cell_type": "code",
   "execution_count": 21,
   "id": "345b3115-8c5f-4324-aed5-ce90b40419e5",
   "metadata": {},
   "outputs": [],
   "source": [
    "IITM = {}\n",
    "ntotal_iitm = 0\n",
    "nempty_iitm = 0\n",
    "# IITM_multiple_hits = {}\n",
    "\n",
    "column_names = [0, 'XGridCentre', 'YGridCentre', 'Longitude', 'Latitude', \n",
    "                    'MinSF', 'MinSLP', 'PressureDrop', 'MaxSfcWind', 'AvgRH', 'MaxSfcGeoPt', 'Year', \n",
    "                    'Month', 'Day', 'Hour']\n",
    "\n",
    "# for outputfile in sorted(os.listdir('/global/cscratch1/sd/vishnus/GFS_IITM/2007_2018_newgp/')):\n",
    "\n",
    "folderpath = '/global/homes/s/salilg/pandasNewCode/data/LPS_Tracks/Track_newgp/'\n",
    "for outputfile in sorted(os.listdir(folderpath)):\n",
    "    if outputfile.startswith('LPS_dslp_track_'):\n",
    "        \n",
    "        fileDate = outputfile[15:23]\n",
    "        #all IITM file dates are observed date + 1; so moving back one day here\n",
    "        date = changeIITMFileDate(fileDate)\n",
    "\n",
    "        if date in common_files_to_read:\n",
    "\n",
    "            if os.stat(folderpath + outputfile).st_size == 0:\n",
    "                nempty_iitm += 1\n",
    "\n",
    "            else:\n",
    "\n",
    "                file = folderpath + outputfile\n",
    "\n",
    "                possible_model_tracks = add_datetime_to_dic(\n",
    "                    read_vishnu_csv_to_dic(file, column_names, 'IITM')\n",
    "                                                )\n",
    "\n",
    "                load_model_data(date, possible_model_tracks, IITM, ERA5, 'ERA5')\n",
    "\n",
    "            ntotal_iitm += 1\n",
    "\n",
    "            # get_num_multiple_hits(date, possible_model_tracks, ERA5, IITM_multiple_hits)#"
   ]
  },
  {
   "cell_type": "code",
   "execution_count": 22,
   "id": "5185dac6-4bf9-4fff-a488-75d0da5ef96d",
   "metadata": {},
   "outputs": [
    {
     "data": {
      "text/plain": [
       "(103, 5, 135)"
      ]
     },
     "execution_count": 22,
     "metadata": {},
     "output_type": "execute_result"
    }
   ],
   "source": [
    "len(IITM), nempty_iitm, ntotal_iitm"
   ]
  },
  {
   "cell_type": "code",
   "execution_count": 23,
   "id": "d8c17718-9644-4fca-8b34-94aa0cedc787",
   "metadata": {},
   "outputs": [
    {
     "data": {
      "text/plain": [
       "(103, 117)"
      ]
     },
     "execution_count": 23,
     "metadata": {},
     "output_type": "execute_result"
    }
   ],
   "source": [
    "len(IITM),len(ECMWF)"
   ]
  },
  {
   "cell_type": "markdown",
   "id": "8186778c-f39c-4425-b55f-b6124e60b206",
   "metadata": {
    "tags": []
   },
   "source": [
    "## Data wrangling for models (ECMWF and IITM)"
   ]
  },
  {
   "cell_type": "code",
   "execution_count": 39,
   "id": "9d210a72-2790-4c01-b684-0330befb83ed",
   "metadata": {
    "tags": []
   },
   "outputs": [],
   "source": [
    "# main things:\n",
    "# for ECMWF and IITM, all tracks DO NOT need to start at 00 or 12 hours\n",
    "# IITM: all tracks need to have 6-hourly frequency (to match ECMWF)"
   ]
  },
  {
   "cell_type": "code",
   "execution_count": 41,
   "id": "604ddd94-d7a0-4317-99d0-d744ebce694f",
   "metadata": {
    "tags": []
   },
   "outputs": [],
   "source": [
    "# UPDATE: NOT DOING THIS.\n",
    "# make all ECMWF tracks start at 00 or 12 hours\n",
    "\n",
    "# for key, df in ECMWF.items():\n",
    "#     nearest_12 = ceil_dt(df['date'].iloc[0], timedelta(hours=12))\n",
    "#     mask = df['date'] >= nearest_12\n",
    "#     df = df.loc[mask]\n",
    "    \n",
    "#     ECMWF[key] = df\n",
    "\n",
    "# UPDATE: NOT DOING THIS.\n",
    "# make all IITM tracks start at 00 or 12 hours, and downsample from 3-hourly to 6-hourly data\n",
    "\n",
    "# for key,df in IITM.items():\n",
    "    \n",
    "#     nearest_12 = ceil_dt(df['date'].iloc[0], timedelta(hours=12))\n",
    "#     mask = df['date'] >= nearest_12\n",
    "\n",
    "#     df = df.loc[mask]"
   ]
  },
  {
   "cell_type": "code",
   "execution_count": 24,
   "id": "0bb326cf-25bf-41f3-8482-5fc43207f600",
   "metadata": {},
   "outputs": [],
   "source": [
    "# I also downsample IITM right before checking for hit, but don't make a permanent change, \n",
    "# so I make the downsampling permanent here.\n",
    "\n",
    "for key,df in IITM.items():\n",
    "    \n",
    "    # using this mask instead of pd.df.asfreq('6h') because if the storm starts at an 03:00,\n",
    "    #    .asfreq will make it 03:00, 09:00, 15:00, etc. instead of 06:00, 12:00, 18:00, etc.\n",
    "    mask_downsample = (df['date'].dt.hour % 6 == 0) # downsample to 6-hourly\n",
    "    df = df.loc[mask_downsample]\n",
    "\n",
    "    IITM[key] = df"
   ]
  },
  {
   "cell_type": "markdown",
   "id": "27be0940-b41c-405a-a554-1d5d4356664b",
   "metadata": {
    "jp-MarkdownHeadingCollapsed": true,
    "tags": []
   },
   "source": [
    "# Get ERA5, ECMWF, IITM systems corresponding to common model hits (skipped as we're not worrying about common hits)"
   ]
  },
  {
   "cell_type": "code",
   "execution_count": 90,
   "id": "85df0c9a-a9df-4a9e-a19e-affb3322cf94",
   "metadata": {},
   "outputs": [
    {
     "data": {
      "text/plain": [
       "76"
      ]
     },
     "execution_count": 90,
     "metadata": {},
     "output_type": "execute_result"
    }
   ],
   "source": [
    "ecmwf_era5_keys = [df['ERA5 key'].iloc[0] for key,df in ECMWF.items()]\n",
    "iitm_era5_keys = [df['ERA5 key'].iloc[0] for key,df in IITM.items()]\n",
    "\n",
    "# test overlap between hits in ECMWF and IITM\n",
    "len([x for x in ecmwf_era5_keys if x in iitm_era5_keys])"
   ]
  },
  {
   "cell_type": "code",
   "execution_count": 44,
   "id": "52bae23f-72f3-4095-ac4a-897462e2d983",
   "metadata": {},
   "outputs": [
    {
     "data": {
      "text/plain": [
       "160"
      ]
     },
     "execution_count": 44,
     "metadata": {},
     "output_type": "execute_result"
    }
   ],
   "source": [
    "len(ERA5)"
   ]
  },
  {
   "cell_type": "code",
   "execution_count": 21,
   "id": "10f52456-96c6-4538-8ecb-406e9146d1bc",
   "metadata": {},
   "outputs": [],
   "source": [
    "# set(ecmwf_era5_keys) - set(iitm_era5_keys)"
   ]
  },
  {
   "cell_type": "code",
   "execution_count": 55,
   "id": "4108ea7c-f757-4ea0-9276-882ba839f40f",
   "metadata": {},
   "outputs": [],
   "source": [
    "common_hits_era5_keys = [x for x in iitm_era5_keys if x in ecmwf_era5_keys]"
   ]
  },
  {
   "cell_type": "code",
   "execution_count": 56,
   "id": "c9795602-f8d3-42db-bf4f-ea2e5878846b",
   "metadata": {},
   "outputs": [],
   "source": [
    "ERA5_hits = {key: ERA5[key] for key in common_hits_era5_keys}"
   ]
  },
  {
   "cell_type": "code",
   "execution_count": 57,
   "id": "3ab3211a-8848-404f-b060-5ad0beff0b15",
   "metadata": {},
   "outputs": [
    {
     "data": {
      "text/plain": [
       "69"
      ]
     },
     "execution_count": 57,
     "metadata": {},
     "output_type": "execute_result"
    }
   ],
   "source": [
    "len(ERA5_hits)"
   ]
  },
  {
   "cell_type": "code",
   "execution_count": 58,
   "id": "654eebe5-c877-4d09-8cf1-15815acdaaee",
   "metadata": {},
   "outputs": [],
   "source": [
    "ECMWF_common = {key: df for key,df in ECMWF.items() if df['ERA5 key'].iloc[0] in \n",
    "                common_hits_era5_keys}\n",
    "IITM_common = {key: df for key,df in IITM.items() if df['ERA5 key'].iloc[0] in \n",
    "                common_hits_era5_keys}"
   ]
  },
  {
   "cell_type": "code",
   "execution_count": 63,
   "id": "9773b61d-c015-4870-ad45-b21b9079fc2e",
   "metadata": {},
   "outputs": [
    {
     "data": {
      "text/plain": [
       "'20070618-10-89.25-14.25'"
      ]
     },
     "execution_count": 63,
     "metadata": {},
     "output_type": "execute_result"
    }
   ],
   "source": [
    "ECMWF_common[list(ECMWF_common.keys())[0]]['ERA5 key'].iloc[0]"
   ]
  },
  {
   "cell_type": "code",
   "execution_count": 64,
   "id": "bf39220a-c2b9-4f6d-a368-785e71f42d0e",
   "metadata": {},
   "outputs": [
    {
     "data": {
      "text/plain": [
       "'20070618-10-89.25-14.25'"
      ]
     },
     "execution_count": 64,
     "metadata": {},
     "output_type": "execute_result"
    }
   ],
   "source": [
    "IITM_common[list(IITM_common.keys())[0]]['ERA5 key'].iloc[0]"
   ]
  },
  {
   "cell_type": "code",
   "execution_count": 88,
   "id": "e011223e-2c2c-4415-9bd9-40d3e7836377",
   "metadata": {},
   "outputs": [
    {
     "data": {
      "text/plain": [
       "(90, 90)"
      ]
     },
     "execution_count": 88,
     "metadata": {},
     "output_type": "execute_result"
    }
   ],
   "source": [
    "len(ECMWF_common), len(IITM_common)"
   ]
  },
  {
   "cell_type": "code",
   "execution_count": 56,
   "id": "0fe7ce16-b79d-4a43-b317-8f2058aa6047",
   "metadata": {},
   "outputs": [],
   "source": [
    "ERA5_depressions = get_depressions(ERA5_hits)\n",
    "ERA5_lows = get_lows(ERA5_hits)"
   ]
  },
  {
   "cell_type": "code",
   "execution_count": 57,
   "id": "9a84150b-7149-44ee-b6a3-7ae94db3145e",
   "metadata": {
    "tags": []
   },
   "outputs": [
    {
     "data": {
      "text/plain": [
       "(48, 42)"
      ]
     },
     "execution_count": 57,
     "metadata": {},
     "output_type": "execute_result"
    }
   ],
   "source": [
    "len(ERA5_depressions), len(ERA5_lows)"
   ]
  },
  {
   "cell_type": "code",
   "execution_count": 58,
   "id": "9e4fc390-0c62-4129-a282-8bba33f60818",
   "metadata": {},
   "outputs": [
    {
     "data": {
      "text/plain": [
       "(34, 12)"
      ]
     },
     "execution_count": 58,
     "metadata": {},
     "output_type": "execute_result"
    }
   ],
   "source": [
    "# overlap\n",
    "ecmwf_dep = [df['ERA5 key'].iloc[0] for key,df in ECMWF_depressions.items()]\n",
    "iitm_dep = [df['ERA5 key'].iloc[0] for key,df in IITM_depressions.items()]\n",
    "era5_dep = list(ERA5_depressions.keys())\n",
    "\n",
    "len([x for x in ecmwf_dep if x in era5_dep]), len([x for x in iitm_dep if x in era5_dep])"
   ]
  },
  {
   "cell_type": "code",
   "execution_count": 59,
   "id": "7311bf03-3cdb-4e46-8f41-6cdd813f8e2b",
   "metadata": {},
   "outputs": [],
   "source": [
    "# my work previously for dep vs. low was incorrect.\n",
    "# Looked at Vishnu's script, I actually need to check pressure and wind speed simulatneously.\n",
    "# for IITM, ['20090903', '20120907', '20180714'] were previously depressions, but are\n",
    "#    no longer depressions."
   ]
  },
  {
   "cell_type": "markdown",
   "id": "7e7148e4-c5bb-4044-b650-71bc93432c78",
   "metadata": {
    "tags": []
   },
   "source": [
    "# Get depressions and lows"
   ]
  },
  {
   "cell_type": "code",
   "execution_count": 25,
   "id": "7e943ec2-e56b-412f-a22f-c8dad7b1a1f4",
   "metadata": {},
   "outputs": [],
   "source": [
    "# to be a depression, a track needs to have PressureDrop >= 4 hPa (i.e., 400 Pa)\n",
    "#    and wind speed >= 8.5 m/s sustained for at least six hours continuously.\n",
    "\n",
    "# code sourced from # https://stackoverflow.com/questions/56048650/tracking-3-day-streaks-\n",
    "#when-a-condition-is-met-in-a-column-of-a-dataframe-withou\n",
    "\n",
    "def is_depression(df, name_of_pressure_drop_column='PressureDrop',\n",
    "                  name_of_wind_speed_column='MaxSfcWind'):\n",
    "    \n",
    "    # calculate how much time 1 data point represents, in hours\n",
    "    hours_per_point = df['date'].diff().min().seconds / 3600\n",
    "    \n",
    "    # calculate how many points you'd need in order to sum to 6 hours\n",
    "    num_points_needed = 6 / hours_per_point\n",
    "    \n",
    "    N = num_points_needed\n",
    "    \n",
    "    c1 = df[name_of_wind_speed_column].ge(8.5) & df[name_of_pressure_drop_column].ge(400)\n",
    "    grouping = (c1 != c1.shift()).cumsum()\n",
    "\n",
    "    df1 = df.assign(\n",
    "        count = df.groupby(grouping)['date'].transform('count'),\n",
    "        n = df.groupby(grouping).agg('cumcount'),\n",
    "        grouping = grouping\n",
    "    )\n",
    "\n",
    "    c2 = df1['count'].ge(N)\n",
    "    c3 = df1['n'].mod(N).eq(0) & df1['n'].le(df1['count']-N)\n",
    "\n",
    "    df['flag'] = np.where(c1 & c2 & c3, 1, 0)\n",
    "    \n",
    "    return df['flag'].sum() > 0\n",
    "\n",
    "def get_depressions(dic):\n",
    "    # .copy() to avoid SettingWithCopyWarning\n",
    "    return {key: df for key,df in dic.items() if is_depression(df.copy())}\n",
    "\n",
    "def get_lows(dic):\n",
    "    return {key: df for key,df in dic.items() if not is_depression(df.copy())}"
   ]
  },
  {
   "cell_type": "code",
   "execution_count": 26,
   "id": "8c53a16a-0a2d-4c6a-91b7-68e190d787d0",
   "metadata": {},
   "outputs": [],
   "source": [
    "# ECMWF_depressions = get_depressions(ECMWF_common)\n",
    "# ECMWF_lows = get_lows(ECMWF_common)\n",
    "ECMWF_depressions = get_depressions(ECMWF)\n",
    "ECMWF_lows = get_lows(ECMWF)"
   ]
  },
  {
   "cell_type": "code",
   "execution_count": 27,
   "id": "49850c68-a46f-429f-b60c-3cdd3226383c",
   "metadata": {},
   "outputs": [
    {
     "data": {
      "text/plain": [
       "(50, 67)"
      ]
     },
     "execution_count": 27,
     "metadata": {},
     "output_type": "execute_result"
    }
   ],
   "source": [
    "len(ECMWF_depressions), len(ECMWF_lows)"
   ]
  },
  {
   "cell_type": "code",
   "execution_count": 28,
   "id": "f42df1e6-cd9b-4d85-ac9c-3e91e20e39cd",
   "metadata": {},
   "outputs": [],
   "source": [
    "##### IITM_depressions = get_depressions(IITM_common)\n",
    "# IITM_lows = get_lows(IITM_common)\n",
    "IITM_depressions = get_depressions(IITM)\n",
    "IITM_lows = get_lows(IITM)"
   ]
  },
  {
   "cell_type": "code",
   "execution_count": 29,
   "id": "e639e9d0-e0b3-42d1-8062-74a671f25719",
   "metadata": {},
   "outputs": [
    {
     "data": {
      "text/plain": [
       "(23, 80)"
      ]
     },
     "execution_count": 29,
     "metadata": {},
     "output_type": "execute_result"
    }
   ],
   "source": [
    "len(IITM_depressions), len(IITM_lows)"
   ]
  },
  {
   "cell_type": "markdown",
   "id": "d0e58444-645e-4e48-9243-a1b9f6bbb1b8",
   "metadata": {
    "tags": []
   },
   "source": [
    "# get one MERRA2 track for every ERA5 track"
   ]
  },
  {
   "cell_type": "code",
   "execution_count": 30,
   "id": "8b50a959-27f3-46e2-a791-04c1d9176633",
   "metadata": {},
   "outputs": [],
   "source": [
    "big_merra2 = pd.concat([df for key,df in MERRA2.items()])"
   ]
  },
  {
   "cell_type": "code",
   "execution_count": 31,
   "id": "c5c04194-f425-414a-bc21-25cda3067024",
   "metadata": {},
   "outputs": [
    {
     "name": "stdout",
     "output_type": "stream",
     "text": [
      "20130602-10-93.0-14.5\n",
      "20150928-17-77.25-9.5\n"
     ]
    }
   ],
   "source": [
    "MERRA2_era5 = {}\n",
    "\n",
    "for key,df in ERA5.items():\n",
    "    \n",
    "    overlap_mask = big_merra2['date'].isin(df['date'])\n",
    "    overlap_merra2 = big_merra2[overlap_mask] # this composes all points in MERRA2 that overlap\n",
    "    \n",
    "    # if key == '20070623-20-69.0-20.5':\n",
    "    #     print(overlap_merra2['MERRA2 key'].unique())\n",
    "    \n",
    "    if overlap_merra2.empty:\n",
    "        print(key)\n",
    "    \n",
    "    for merra2_key in overlap_merra2['MERRA2 key'].unique():\n",
    "        \n",
    "        merra2_track = MERRA2[merra2_key]\n",
    "        \n",
    "        if check_for_hit(merra2_track, df):\n",
    "            # if a previous ERA5 track was already tied to this MERRA2 track, then \n",
    "            #    we don't want to also tie this current ERA5 track to the same MERRA2 track\n",
    "            #    (as likely the two ERA5 tracks are short and the MERRA2 track is long,\n",
    "            #    and the second ERA5 track probably starts a while after the genesis of the MERRA2\n",
    "            #    genesis).\n",
    "            # In this case, we just compare the one long MERRA2 track with \n",
    "            #    the first ERA5 track, and the second ERA5 track then has no counterpart in MERRA2.\n",
    "            # So, len(MERRA2_hits) will likely end up being a few less then len(ERA5_hits)\n",
    "            if merra2_key in MERRA2_era5: \n",
    "                continue\n",
    "            else:\n",
    "                merra2_df = merra2_track\n",
    "                merra2_df['ERA5 key'] = pd.Series(key, index=merra2_df.index)\n",
    "                MERRA2_era5[merra2_key] = merra2_df\n",
    "                break\n",
    "            \n",
    "        \n",
    "#         # this is only points in the specific MERRA2 track that overlap\n",
    "#         overlap_of_merra2_track = merra2_track[merra2_track['date'].isin(df['date'])] \n",
    "        \n",
    "#         diff_merra2 = (overlap_of_merra2_track['date'].iloc[-1] - \n",
    "#                        overlap_of_merra2_track['date'].iloc[0])\n",
    "#         overlap_in_hours_of_merra2 = diff_merra2.total_seconds() / 3600\n",
    "        \n",
    "#         overlap_of_era5_track = df[df['date'].isin(overlap_of_merra2_track['date'])]\n",
    "        \n",
    "#         mean_distance = get_mean_distance(overlap_of_era5_track, overlap_of_merra2_track)\n",
    "        \n",
    "#         # if key == '20140903-1-74.0-25.0':\n",
    "#         #     print(overlap_in_hours_of_merra2, mean_distance, merra2_key)\n",
    "#         #     print(merra2_key in MERRA2_hits)\n",
    "        \n",
    "#         if overlap_in_hours_of_merra2 >= 24 and mean_distance <= 5:\n",
    "#             # if a previous ERA5 track was already tied to this MERRA2 track, then \n",
    "#             #    we don't want to also tie this current ERA5 track to the same MERRA2 track\n",
    "#             #    (as likely the two ERA5 tracks are short and the MERRA2 track is long,\n",
    "#             #    and the second ERA5 track probably starts a while after the genesis of the MERRA2\n",
    "#             #    genesis).\n",
    "#             # In this case, we just compare the one long MERRA2 track with \n",
    "#             #    the first ERA5 track, and the second ERA5 track then has no counterpart in MERRA2.\n",
    "#             # So, len(MERRA2_hits) will likely end up being a few less then len(ERA5_hits)\n",
    "#             if merra2_key in MERRA2_era5: \n",
    "#                 continue\n",
    "#             else:\n",
    "#                 merra2_df = merra2_track\n",
    "#                 merra2_df['ERA5 key'] = pd.Series(key, index=merra2_df.index)\n",
    "#                 MERRA2_era5[merra2_key] = merra2_df\n",
    "#                 break"
   ]
  },
  {
   "cell_type": "code",
   "execution_count": 32,
   "id": "a6657a16-54e6-45ed-9d46-c2b928cee321",
   "metadata": {},
   "outputs": [
    {
     "data": {
      "text/plain": [
       "138"
      ]
     },
     "execution_count": 32,
     "metadata": {},
     "output_type": "execute_result"
    }
   ],
   "source": [
    "len(MERRA2_era5)"
   ]
  },
  {
   "cell_type": "code",
   "execution_count": 34,
   "id": "56cb65a8-d15f-442b-9833-dec39d7c7ee0",
   "metadata": {
    "jupyter": {
     "source_hidden": true
    },
    "tags": []
   },
   "outputs": [],
   "source": [
    "# suhas wanted this info\n",
    "# suhas_merra2_era5 = {key: df['ERA5 key'].iloc[0] for key,df in MERRA2_era5.items()}\n",
    "# pickle_out = open('suhas_merra2_era5_keys.pickle', 'wb')\n",
    "# pickle.dump(suhas_merra2_era5, pickle_out)\n",
    "# pickle_out.close()"
   ]
  },
  {
   "cell_type": "code",
   "execution_count": 46,
   "id": "0875b7ec-8918-48ff-8d6f-5c5de513f918",
   "metadata": {
    "collapsed": true,
    "jupyter": {
     "outputs_hidden": true
    },
    "tags": []
   },
   "outputs": [
    {
     "data": {
      "text/plain": [
       "{'20070617-14-64.25-19.25',\n",
       " '20080617-18-79.25-26.75',\n",
       " '20080628-20-81.25-25.0',\n",
       " '20080705-1-82.5-26.0',\n",
       " '20090717-7-71.25-22.25',\n",
       " '20100828-14-75.75-20.5',\n",
       " '20100907-12-82.0-20.5',\n",
       " '20110607-4-89.5-18.75',\n",
       " '20110811-10-88.25-22.25',\n",
       " '20110818-10-84.0-25.75',\n",
       " '20130602-10-93.0-14.5',\n",
       " '20130610-10-64.5-22.0',\n",
       " '20140731-7-69.75-21.75',\n",
       " '20140903-1-74.0-25.0',\n",
       " '20150911-2-86.0-17.25',\n",
       " '20150928-17-77.25-9.5',\n",
       " '20160625-19-68.0-22.0',\n",
       " '20170623-10-91.0-20.5',\n",
       " '20170715-2-72.0-23.75'}"
      ]
     },
     "execution_count": 46,
     "metadata": {},
     "output_type": "execute_result"
    }
   ],
   "source": [
    "# 141 MERRA2 tracks that were matched with an ERA5 track. So 19 ERA5 tracks that we couldn't \n",
    "#    find a match for...\n",
    "merra2_keys_with_era5_keys = [df['ERA5 key'].iloc[0] for key,df in MERRA2_era5.items()]\n",
    "set(ERA5.keys()) - set(merra2_keys_with_era5_keys)"
   ]
  },
  {
   "cell_type": "markdown",
   "id": "790cfdce-6a7b-4f58-bf91-34f6078641ad",
   "metadata": {
    "tags": []
   },
   "source": [
    "## Create dictionaries that all have the same keys"
   ]
  },
  {
   "cell_type": "code",
   "execution_count": 33,
   "id": "e9a1ce95-f8ad-4468-9d04-9b7c52691bb5",
   "metadata": {},
   "outputs": [],
   "source": [
    "def change_keys(dic, key_desired):\n",
    "    return {df[key_desired].iloc[0]: df for key,df in dic.items()}\n",
    "\n",
    "# temporary\n",
    "ECMWF_with_era5_keys = change_keys(ECMWF, 'ERA5 key')\n",
    "IITM_with_era5_keys = change_keys(IITM, 'ERA5 key')\n",
    "\n",
    "# MERRA2_era5 is a dictionary of the MERRA2 tracks that have been matched with an ERA5 track\n",
    "MERRA2_with_era5_keys = change_keys(MERRA2_era5, 'ERA5 key')\n",
    "\n",
    "# make dictionaries for ERA5 containing only the tracks that overlap with ECMWF and IITM\n",
    "ERA5_overlap_ecmwf = {key: df for key,df in ERA5.items() if key in ECMWF_with_era5_keys.keys()}\n",
    "ERA5_overlap_iitm = {key: df for key,df in ERA5.items() if key in IITM_with_era5_keys.keys()}\n",
    "\n",
    "# make dictionaries for MERRA2 containing only the tracks that overlap with ECMWF and IITM\n",
    "MERRA2_overlap_ecmwf = {key: df for key,df in MERRA2_with_era5_keys.items() \n",
    "                if key in ECMWF_with_era5_keys.keys()}\n",
    "MERRA2_overlap_iitm = {key: df for key,df in MERRA2_with_era5_keys.items() \n",
    "               if key in IITM_with_era5_keys.keys()}"
   ]
  },
  {
   "cell_type": "code",
   "execution_count": 45,
   "id": "beb64bc7-42c0-46d1-a75d-c3eca9238a3d",
   "metadata": {},
   "outputs": [
    {
     "data": {
      "text/plain": [
       "91"
      ]
     },
     "execution_count": 45,
     "metadata": {},
     "output_type": "execute_result"
    }
   ],
   "source": [
    "# find number of common matches between ECMWF and IITM\n",
    "len([x for x in ECMWF_with_era5_keys if x in IITM_with_era5_keys])"
   ]
  },
  {
   "cell_type": "code",
   "execution_count": 34,
   "id": "a8d02010-4b15-425d-9a56-92ff0e513563",
   "metadata": {},
   "outputs": [
    {
     "data": {
      "text/plain": [
       "(117, 103, 117, 103)"
      ]
     },
     "execution_count": 34,
     "metadata": {},
     "output_type": "execute_result"
    }
   ],
   "source": [
    "len(ECMWF_with_era5_keys), len(IITM_with_era5_keys), len(ERA5_overlap_ecmwf), len(ERA5_overlap_iitm)                                                        "
   ]
  },
  {
   "cell_type": "code",
   "execution_count": 35,
   "id": "b199c7f4-ea74-48bf-ae79-3a9e71c53612",
   "metadata": {},
   "outputs": [
    {
     "data": {
      "text/plain": [
       "(138, 103, 94)"
      ]
     },
     "execution_count": 35,
     "metadata": {},
     "output_type": "execute_result"
    }
   ],
   "source": [
    "len(MERRA2_with_era5_keys), len(MERRA2_overlap_ecmwf), len(MERRA2_overlap_iitm)"
   ]
  },
  {
   "cell_type": "code",
   "execution_count": 36,
   "id": "d1e8156d-d69d-4f2a-a1db-dd3839e9cb7b",
   "metadata": {
    "tags": []
   },
   "outputs": [],
   "source": [
    "# MERRA2_with_era5_keys = change_keys(MERRA2_hits, 'ERA5 key')\n",
    "# ECMWF_with_era5_keys = change_keys(ECMWF_common, 'ERA5 key')\n",
    "# IITM_with_era5_keys = change_keys(IITM_common, 'ERA5 key')"
   ]
  },
  {
   "cell_type": "code",
   "execution_count": 37,
   "id": "6a5887b9-ccdc-43f3-8e11-b771681719d6",
   "metadata": {
    "tags": []
   },
   "outputs": [],
   "source": [
    "# change keys for depressions and lows\n",
    "# these are only for statistics here; for the deps/lows analyses later, we only look at ERA5 tracks\n",
    "\n",
    "ECMWF_depressions_with_era5_keys = change_keys(ECMWF_depressions, 'ERA5 key')\n",
    "ECMWF_lows_with_era5_keys = change_keys(ECMWF_lows, 'ERA5 key')\n",
    "\n",
    "IITM_depressions_with_era5_keys = change_keys(IITM_depressions, 'ERA5 key')\n",
    "IITM_lows_with_era5_keys = change_keys(IITM_lows, 'ERA5 key')\n",
    "\n",
    "MERRA2_depressions_with_era5_keys = change_keys(get_depressions(MERRA2_era5), 'ERA5 key')\n",
    "MERRA2_lows_with_era5_keys = change_keys(get_lows(MERRA2_era5), 'ERA5 key')"
   ]
  },
  {
   "cell_type": "code",
   "execution_count": 38,
   "id": "3086c6a2-73d4-44c1-9cd2-b7d34e31504f",
   "metadata": {},
   "outputs": [
    {
     "data": {
      "text/plain": [
       "(83, 55)"
      ]
     },
     "execution_count": 38,
     "metadata": {},
     "output_type": "execute_result"
    }
   ],
   "source": [
    "len(MERRA2_depressions_with_era5_keys), len(MERRA2_lows_with_era5_keys)"
   ]
  },
  {
   "cell_type": "code",
   "execution_count": 39,
   "id": "d15092fa-d4e9-4dd5-b820-d46339b2a30b",
   "metadata": {},
   "outputs": [],
   "source": [
    "ERA5_depressions_ecmwf = get_depressions(ERA5_overlap_ecmwf)\n",
    "ERA5_lows_ecmwf = get_lows(ERA5_overlap_ecmwf)\n",
    "ERA5_depressions_iitm = get_depressions(ERA5_overlap_iitm)\n",
    "ERA5_lows_iitm = get_lows(ERA5_overlap_iitm)"
   ]
  },
  {
   "cell_type": "code",
   "execution_count": 40,
   "id": "462f0828-5a05-4620-871a-74b4a1a51b66",
   "metadata": {},
   "outputs": [
    {
     "data": {
      "text/plain": [
       "(56, 61)"
      ]
     },
     "execution_count": 40,
     "metadata": {},
     "output_type": "execute_result"
    }
   ],
   "source": [
    "len(ERA5_depressions_ecmwf), len(ERA5_lows_ecmwf) # adds to 117"
   ]
  },
  {
   "cell_type": "code",
   "execution_count": 54,
   "id": "d6e9b828-e436-4685-83fb-4f6bedbd0103",
   "metadata": {},
   "outputs": [
    {
     "name": "stdout",
     "output_type": "stream",
     "text": [
      "38\n",
      "49\n"
     ]
    }
   ],
   "source": [
    "print(len(list(set(ERA5_depressions_ecmwf).intersection(ECMWF_depressions_with_era5_keys))))\n",
    "print(len(list(set(ERA5_lows_ecmwf).intersection(ECMWF_lows_with_era5_keys))))"
   ]
  },
  {
   "cell_type": "code",
   "execution_count": 55,
   "id": "209fe5be-00a7-452b-98de-fefa5d893e5f",
   "metadata": {},
   "outputs": [
    {
     "data": {
      "text/plain": [
       "(52, 51)"
      ]
     },
     "execution_count": 55,
     "metadata": {},
     "output_type": "execute_result"
    }
   ],
   "source": [
    "len(ERA5_depressions_iitm), len(ERA5_lows_iitm) # adds to 103"
   ]
  },
  {
   "cell_type": "code",
   "execution_count": 56,
   "id": "89be5866-b550-4f05-90bf-9389b932c950",
   "metadata": {},
   "outputs": [
    {
     "name": "stdout",
     "output_type": "stream",
     "text": [
      "13\n",
      "41\n"
     ]
    }
   ],
   "source": [
    "print(len(list(set(ERA5_depressions_iitm).intersection(IITM_depressions_with_era5_keys))))\n",
    "print(len(list(set(ERA5_lows_iitm).intersection(IITM_lows_with_era5_keys))))"
   ]
  },
  {
   "cell_type": "code",
   "execution_count": 42,
   "id": "a7f35aa3-503e-466c-b7a1-291ea1350a22",
   "metadata": {},
   "outputs": [],
   "source": [
    "ERA5_135 = {key: df for key,df in ERA5.items() if key[:8] in common_files_to_read}"
   ]
  },
  {
   "cell_type": "code",
   "execution_count": 43,
   "id": "6b789459-838c-47f6-9cb4-88f2d3065429",
   "metadata": {},
   "outputs": [
    {
     "data": {
      "text/plain": [
       "137"
      ]
     },
     "execution_count": 43,
     "metadata": {},
     "output_type": "execute_result"
    }
   ],
   "source": [
    "len(ERA5_135) # 137 because the two dates in ERA5 that each had 2 tracks on the same day"
   ]
  },
  {
   "cell_type": "code",
   "execution_count": 46,
   "id": "000d225e-9469-4da2-92db-879d4e5f7210",
   "metadata": {},
   "outputs": [
    {
     "data": {
      "text/plain": [
       "(60, 77)"
      ]
     },
     "execution_count": 46,
     "metadata": {},
     "output_type": "execute_result"
    }
   ],
   "source": [
    "len(get_depressions(ERA5_135)), len(get_lows(ERA5_135))"
   ]
  },
  {
   "cell_type": "code",
   "execution_count": 50,
   "id": "94b99bbe-406a-4ed2-bea5-5700c73e2ff4",
   "metadata": {},
   "outputs": [
    {
     "data": {
      "text/plain": [
       "118"
      ]
     },
     "execution_count": 50,
     "metadata": {},
     "output_type": "execute_result"
    }
   ],
   "source": [
    "MERRA2_for_ERA5_135 = {key: df for key,df in MERRA2_with_era5_keys.items() if key in ERA5_135}\n",
    "len(MERRA2_for_ERA5_135)"
   ]
  },
  {
   "cell_type": "code",
   "execution_count": 52,
   "id": "2fd09f1a-1cca-4742-98bd-fa139353cf7b",
   "metadata": {},
   "outputs": [
    {
     "data": {
      "text/plain": [
       "(70, 48)"
      ]
     },
     "execution_count": 52,
     "metadata": {},
     "output_type": "execute_result"
    }
   ],
   "source": [
    "len(get_depressions(MERRA2_for_ERA5_135)), len(get_lows(MERRA2_for_ERA5_135))"
   ]
  },
  {
   "cell_type": "markdown",
   "id": "c88b344f-0c72-44c6-a949-a1a72f954e1f",
   "metadata": {},
   "source": [
    "## Store data"
   ]
  },
  {
   "cell_type": "code",
   "execution_count": 62,
   "id": "d75f5a95-4608-4746-a089-053748f92130",
   "metadata": {},
   "outputs": [],
   "source": [
    "import pickle"
   ]
  },
  {
   "cell_type": "code",
   "execution_count": 63,
   "id": "43005723-a96e-4f2b-88fb-d9abc26b4df8",
   "metadata": {},
   "outputs": [],
   "source": [
    "def store_as_pickle(data, filepath):\n",
    "    pickle_out = open(filepath, 'wb')\n",
    "    pickle.dump(data, pickle_out)\n",
    "    pickle_out.close()"
   ]
  },
  {
   "cell_type": "code",
   "execution_count": 65,
   "id": "3fa1c7de-c8a5-42d6-85e1-09a9fda99c24",
   "metadata": {},
   "outputs": [],
   "source": [
    "# temporary\n",
    "store_as_pickle(ERA5_135, 'data/update/era5.pickle') # needed for genesis/lysis plots\n",
    "\n",
    "store_as_pickle(ECMWF_with_era5_keys, 'data/update/ecmwf.pickle')\n",
    "store_as_pickle(IITM_with_era5_keys, 'data/update/iitm.pickle')\n",
    "\n",
    "store_as_pickle(ERA5_overlap_ecmwf, 'data/update/era5_ecmwf.pickle')\n",
    "store_as_pickle(ERA5_overlap_iitm, 'data/update/era5_iitm.pickle')\n",
    "# the above two will replace the old era5.pickle\n",
    "\n",
    "store_as_pickle(MERRA2_for_ERA5_135, 'data/update/merra2.pickle') # maybe for genesis/lysis\n",
    "store_as_pickle(MERRA2_overlap_ecmwf, 'data/update/merra2_ecmwf.pickle')\n",
    "store_as_pickle(MERRA2_overlap_iitm, 'data/update/merra2_iitm.pickle')\n",
    "\n",
    "l = [ERA5_depressions_ecmwf,\n",
    "     ERA5_lows_ecmwf,\n",
    "     ERA5_depressions_iitm,\n",
    "     ERA5_lows_iitm]\n",
    "\n",
    "store_as_pickle(l, 'data/update/depressions_lows.pickle')"
   ]
  },
  {
   "cell_type": "markdown",
   "id": "eec1caca-be26-4cf4-aa3d-a771846ca100",
   "metadata": {},
   "source": [
    "Don't run `store_pickle` calls below this."
   ]
  },
  {
   "cell_type": "code",
   "execution_count": 106,
   "id": "8ad31956-2dd1-4b85-9f8a-2fc0dfbf38e8",
   "metadata": {},
   "outputs": [],
   "source": [
    "store_as_pickle(ERA5_hits, 'data/update/era5.pickle')"
   ]
  },
  {
   "cell_type": "code",
   "execution_count": 107,
   "id": "b848e4da-6ecd-4758-9a1b-601cc0fe29b6",
   "metadata": {},
   "outputs": [],
   "source": [
    "store_as_pickle(ECMWF_with_era5_keys, 'data/update/ecmwf.pickle')"
   ]
  },
  {
   "cell_type": "code",
   "execution_count": 108,
   "id": "ca4004b0-75ad-41ee-ac26-fcac6c41c4aa",
   "metadata": {},
   "outputs": [],
   "source": [
    "store_as_pickle(IITM_with_era5_keys, 'data/update/iitm.pickle')"
   ]
  },
  {
   "cell_type": "code",
   "execution_count": 109,
   "id": "eebeb948-1574-4292-9f07-ebe47b3cedcd",
   "metadata": {},
   "outputs": [],
   "source": [
    "store_as_pickle(MERRA2_with_era5_keys, 'data/update/merra2.pickle')"
   ]
  },
  {
   "cell_type": "code",
   "execution_count": 110,
   "id": "7c08fd62-ec21-47e9-8b23-6335112dbacf",
   "metadata": {},
   "outputs": [],
   "source": [
    "l = [ECMWF_depressions_with_era5_keys,\n",
    "     ECMWF_lows_with_era5_keys,\n",
    "     IITM_depressions_with_era5_keys,\n",
    "     IITM_lows_with_era5_keys,\n",
    "     ERA5_depressions,\n",
    "     ERA5_lows,\n",
    "     MERRA2_depressions_with_era5_keys,\n",
    "     MERRA2_lows_with_era5_keys]\n",
    "\n",
    "store_as_pickle(l, \"data/update/depressions_lows.pickle\")"
   ]
  },
  {
   "cell_type": "code",
   "execution_count": 108,
   "id": "536c7a08-1bb7-4ea4-a6f8-071f56a0ab36",
   "metadata": {},
   "outputs": [],
   "source": [
    "# pickle_out = open(\"data/merra2.pickle\", 'wb')\n",
    "# pickle.dump(MERRA2, pickle_out)\n",
    "# pickle_out.close()"
   ]
  },
  {
   "cell_type": "code",
   "execution_count": 38,
   "id": "b526c2c1-762a-4f43-9706-9e59448abf42",
   "metadata": {},
   "outputs": [],
   "source": [
    "# pickle_out = open(\"data/era5.pickle\", 'wb')\n",
    "# pickle.dump(ERA5_common, pickle_out)\n",
    "# pickle_out.close()"
   ]
  },
  {
   "cell_type": "code",
   "execution_count": 170,
   "id": "7d073ad7-4e1a-472a-890d-fac0f3af31aa",
   "metadata": {},
   "outputs": [],
   "source": [
    "# pickle_out = open(\"data/ecmwf.pickle\", 'wb')\n",
    "# pickle.dump(ECMWF_hits, pickle_out)\n",
    "# pickle_out.close()"
   ]
  },
  {
   "cell_type": "code",
   "execution_count": 171,
   "id": "4809df7d-66df-4604-9911-044cb233ef21",
   "metadata": {},
   "outputs": [],
   "source": [
    "# pickle_out = open(\"data/iitm.pickle\", 'wb')\n",
    "# pickle.dump(IITM_hits, pickle_out)\n",
    "# pickle_out.close()"
   ]
  },
  {
   "cell_type": "code",
   "execution_count": 111,
   "id": "b2c44f51-b027-447a-84fd-3fa221f82f58",
   "metadata": {},
   "outputs": [],
   "source": [
    "# pickle_out = open(\"data/depressions_lows.pickle\", 'wb')\n",
    "# pickle.dump([ECMWF_depressions, ECMWF_lows, IITM_depressions, IITM_lows,\n",
    "#             ERA5_depressions, ERA5_lows], pickle_out)\n",
    "# pickle_out.close()"
   ]
  },
  {
   "cell_type": "markdown",
   "id": "0d16f2a6-b3e8-4d5e-9c9c-4d89d4379c60",
   "metadata": {
    "jp-MarkdownHeadingCollapsed": true,
    "tags": []
   },
   "source": [
    "## Checking data"
   ]
  },
  {
   "cell_type": "code",
   "execution_count": 54,
   "id": "dbddd2e0-00f7-4454-91d7-395e36fd17b9",
   "metadata": {},
   "outputs": [],
   "source": [
    "# min gap between points for each storm for:\n",
    "#    MERRA2 should be 3 hours\n",
    "#    ERA5 should be 1 hour\n",
    "\n",
    "df = MERRA2\n",
    "\n",
    "for key in df:\n",
    "    if df[key]['date'].diff().min().seconds // 3600 != 3:\n",
    "        print('oh no')"
   ]
  },
  {
   "cell_type": "code",
   "execution_count": 68,
   "id": "44b2db4b-4211-46b5-9e64-b60fddc76839",
   "metadata": {},
   "outputs": [],
   "source": [
    "# min gap between points for each storm for:\n",
    "#    ECMWF should be 6 hours\n",
    "#    IITM should be 3 hours\n",
    "\n",
    "df = IITM\n",
    "\n",
    "for storm in df:\n",
    "    for track in df[storm]:\n",
    "        if df[storm][track]['date'].diff().min().seconds // 3600 != 3:\n",
    "            print('oh no')"
   ]
  },
  {
   "cell_type": "markdown",
   "id": "50fd1349-9ff4-41ea-b655-b687c0a79421",
   "metadata": {
    "jp-MarkdownHeadingCollapsed": true,
    "tags": []
   },
   "source": [
    "# Appendix"
   ]
  },
  {
   "cell_type": "code",
   "execution_count": 103,
   "id": "7e698087-7654-4318-9352-1fb87b011810",
   "metadata": {
    "tags": []
   },
   "outputs": [],
   "source": [
    "# USELESS FUNCTION, WILL DELETE SOON\n",
    "\n",
    "# this function takes in the lines of a tab delimited file and reads them into a pandas dataframe.\n",
    "\n",
    "def read_lines_to_df(file, lines, dic, col_names, usecols, key=None, observation=False):\n",
    "    \n",
    "    # for the start_line_locations dictionary:\n",
    "    # keys are the indices in the LPS_track_yyyymmdd.txt file at which a new storm starts\n",
    "    #    (i.e., the index at which there's a line of the form \"start 20 2007 06 17 12\"\n",
    "    # values are the number of rows that follow this start line, that are part of the same \n",
    "    #    storm (also given by the second element in the start line. In the case above, it's 20)\n",
    "\n",
    "    # example: start_line_locations = {0: 41, 42: 20}, meaning that there's a 'start' line at \n",
    "    #    index 0 that's followed by 41 lines (not including itself), and then the next \n",
    "    #    'start' line is at index 42, followed by 20 lines (not including itself).\n",
    "    start_line_locations = {} \n",
    "\n",
    "    for index, line in enumerate(lines):\n",
    "        linesplit = line.strip().split('\\t')\n",
    "        if linesplit[0] == 'start':\n",
    "            num_rows = int(linesplit[1])\n",
    "            start_line_locations[index] = num_rows\n",
    "    \n",
    "    # the observation (ERA5) file, LPS_track_India_1979_2019_JJS.txt, is set up differently than\n",
    "    #    the LPS_track_yyyymmdd.txt files. The latter have several tracks for one storm in the file;\n",
    "    #    the former has one track per storm, and all of these tracks in the same file.\n",
    "    if observation==True:\n",
    "        \n",
    "        for elem in start_line_locations:\n",
    "            index_of_storm_start = elem\n",
    "            num_rows_of_storm = start_line_locations[elem]\n",
    "            key = \"\".join([x.zfill(2) for x in lines[index_of_storm_start].strip().split('\\t')[2:5]])\n",
    "            \n",
    "            dic[key] = [] # initialize the list\n",
    "\n",
    "            df = pd.read_csv(file, header = None, sep = '\\t',\n",
    "                             skiprows = index_of_storm_start + 1,\n",
    "                             nrows = num_rows_of_storm,\n",
    "                             usecols=usecols, # the first element is a tab\n",
    "                             names = col_names)\n",
    "\n",
    "            dic[key].append(df)\n",
    "        \n",
    "    else: # observation==False\n",
    "        \n",
    "        if not key:\n",
    "            raise ArgumentError('please input a key, as you are not working with ERA5')\n",
    "        \n",
    "        # for the models, the key has to be supplied separately and we cannot just use the start\n",
    "        #    date of the track as the key. This is because the start date of an arbitrary track\n",
    "        #    might be, say, 5 days after the observed genesis, but we want the key to match the\n",
    "        #    date of observed genesis so that we can identify the storm.\n",
    "        \n",
    "        dic[key] = [] #initialize the list\n",
    "\n",
    "        for elem in start_line_locations:\n",
    "            index_of_storm_start = elem\n",
    "            num_rows_of_storm = start_line_locations[elem]\n",
    "\n",
    "            df = pd.read_csv(file, header = None, sep = '\\t',\n",
    "                             skiprows = index_of_storm_start + 1,\n",
    "                             nrows = num_rows_of_storm,\n",
    "                             usecols=usecols, # the first element is a tab\n",
    "                             names = col_names)\n",
    "\n",
    "            dic[key].append(df)\n",
    "        \n",
    "    return dic"
   ]
  },
  {
   "cell_type": "code",
   "execution_count": 9,
   "id": "3c85fb6d-3ec1-4e8a-bf9b-d50acc9cd5c9",
   "metadata": {
    "tags": []
   },
   "outputs": [],
   "source": [
    "# OLD, JUST FOR REFERENCE\n",
    "\n",
    "MERRA2_storms = {}\n",
    "col_names = ['longitude', \n",
    "             'latitude', \n",
    "             'Pressure Drop (Pa)', #  (otherwise closed contour in Pa)\n",
    "             'Maximum Surface Wind (m/s)', #  within 3 degrees\n",
    "             'year',\n",
    "             'month',\n",
    "             'day',\n",
    "             'hour']\n",
    "usecols=[3, 4, 6, 7, 16, 17, 18, 19]\n",
    "\n",
    "# read_lines_to_df(file, lines, dic, col_names, usecols, key=None, observation=False):\n",
    "MERRA2_storms = read_lines_to_df(fileo, lineso, MERRA2_storms, col_names, usecols, observation=True)\n",
    "\n",
    "# ensure lons are in -180 to +180 format\n",
    "df_tmp['Lon'][df_tmp['Lon'] > 180] -= 360"
   ]
  },
  {
   "cell_type": "code",
   "execution_count": 183,
   "id": "73c15c30-4bab-45de-b6c2-5c0a0510c229",
   "metadata": {},
   "outputs": [],
   "source": [
    "import cartopy.crs as ccrs\n",
    "\n",
    "# plot IITM vs. ERA5\n",
    "def plot(df1, df2, mean_dist, overlap_hrs, time_since_gen):\n",
    "    fig = plt.figure(figsize=[6, 6])\n",
    "\n",
    "    # create map\n",
    "    ax = plt.axes(projection=ccrs.PlateCarree())\n",
    "    ax.coastlines()\n",
    "    ax.set_extent([60, 100, 0, 30])\n",
    "    #ax.stock_img()\n",
    "    gl = ax.gridlines(crs=ccrs.PlateCarree(), draw_labels=True,\n",
    "                      linewidth=2, color='gray', alpha=0.5, linestyle='--')\n",
    "\n",
    "    gl.top_labels = False\n",
    "    gl.right_labels = False\n",
    "    gl.xlines = False\n",
    "    gl.ylines =False\n",
    "\n",
    "    plt.plot(df1['Longitude'].iloc[0], df1['Latitude'].iloc[0], color='b', marker='.', markersize=10,\n",
    "                     transform=ccrs.Geodetic())\n",
    "    plt.plot(df1['Longitude'], df1['Latitude'], color='b', linewidth=0.5,linestyle='solid',\n",
    "                     transform=ccrs.Geodetic())\n",
    "    \n",
    "    plt.annotate('Mean dist of first 2 pts of overlap: ' + str(mean_dist), xy=(65, 5), xycoords='data',\n",
    "                    xytext=(65, 5), textcoords='data')\n",
    "    plt.annotate('Hrs between genesis and overlap start: ' + str(time_since_gen), xy=(65, 3), xycoords='data',\n",
    "                    xytext=(65, 3), textcoords='data')\n",
    "    plt.annotate('Overlap hrs: ' + str(overlap_hrs), xy=(65, 1), xycoords='data',\n",
    "                    xytext=(65, 1), textcoords='data')\n",
    "    \n",
    "    # plt.annotate('ECMWF genesis: ' + str(df1['date'].iloc[0]), xy=(65, 7), xycoords='data',\n",
    "    #                 xytext=(65, 7), textcoords='data')\n",
    "    # plt.annotate('ECMWF end: ' + str(df1['date'].iloc[-1]), xy=(65, 5), xycoords='data',\n",
    "    #                 xytext=(65, 5), textcoords='data')\n",
    "    \n",
    "    \n",
    "    plt.plot(df2['Longitude'].iloc[0], df2['Latitude'].iloc[0], color='r', marker='.', markersize=10,\n",
    "                     transform=ccrs.Geodetic())\n",
    "    plt.plot(df2['Longitude'], df2['Latitude'], color='r', linewidth=0.5,linestyle='solid',\n",
    "                     transform=ccrs.Geodetic())\n",
    "    # plt.annotate('ERA5 genesis: ' + str(df2['date'].iloc[0]), xy=(65, 3), xycoords='data',\n",
    "    #                 xytext=(65, 3), textcoords='data')\n",
    "    # plt.annotate('ERA5 end: ' + str(df1['date'].iloc[-1]), xy=(65, 1), xycoords='data',\n",
    "    #                 xytext=(65, 1), textcoords='data')"
   ]
  },
  {
   "cell_type": "code",
   "execution_count": 11,
   "id": "bb6be385-d897-4fef-b6e3-767776f2bceb",
   "metadata": {},
   "outputs": [],
   "source": [
    "# the 20150918 system in IITM has 2 tracks, both starting at the exact same time,\n",
    "#    both of whom have the same number of lines. The first one is a hit and the second one is not;\n",
    "#    hence, the first one was getting deleted because of the duplicated key.\n",
    "# So, below, I'm manually inserting the first track in place of the second one.\n",
    "\n",
    "# column_names = [0, 'XGridCentre', 'YGridCentre', 'Longitude', 'Latitude', \n",
    "#                     'MinSF', 'MinSLP', 'PressureDrop', 'MaxSfcWind', 'AvgRH', 'MaxSfcGeoPt', 'Year', \n",
    "#                     'Month', 'Day', 'Hour']\n",
    "\n",
    "# file = '/global/cscratch1/sd/vishnus/GFS_IITM/2007_2018_newgp/LPS_dslp_track_20150919_newgp.txt'\n",
    "# df = pd.read_csv(file, header=None, names=column_names, sep='\\t')\n",
    "# groups = df[0].isin(['start']).cumsum()\n",
    "# relevant_df = df.groupby(groups).get_group(1)\n",
    "# IITM['20150918'] = add_datetime_to_dic(\n",
    "#                         {\"-\".join([str(int(x)).zfill(2) for x in list(relevant_df.iloc[0][1:6])]):\n",
    "#                         relevant_df.iloc[1:, 1:]}\n",
    "#                     )"
   ]
  },
  {
   "cell_type": "code",
   "execution_count": 98,
   "id": "c28094a7-39df-4bfd-8237-8580734b2975",
   "metadata": {},
   "outputs": [],
   "source": [
    "# takes a given timestamp and adds delta to it\n",
    "\n",
    "def ceil_dt(dt, delta):\n",
    "    dt = dt.to_pydatetime()\n",
    "    return dt + (datetime.min - dt) % delta"
   ]
  },
  {
   "cell_type": "code",
   "execution_count": 99,
   "id": "602e1852-5253-4f90-8fa1-898fa9c0f649",
   "metadata": {},
   "outputs": [],
   "source": [
    "# this was used in the old implementation of check_for_hit, looks like it's no longer \n",
    "#    being used.\n",
    "\n",
    "# if a df with a timeseries is a missing a timestamp_desired, this function will\n",
    "#    interpolate it.\n",
    "# Not well vectorized, need to write cleaner code for this if it ends up having runtime issues.\n",
    "\n",
    "def interpolate(timestamp_desired, df):\n",
    "    \n",
    "    if timestamp_desired > df['date'].iloc[-1]: # if model starts after obs ends\n",
    "        return 0, 0\n",
    "        \n",
    "    if timestamp_desired < df['date'].iloc[0]:\n",
    "        return 0, 0\n",
    "\n",
    "    # get row for the last observation point right before model genesis\n",
    "    mask_prev = (df['date'] < timestamp_desired)\n",
    "    prev = df.loc[mask_prev].iloc[-1] # get last row of masked pre-point df\n",
    "    prev_lon, prev_lat, prev_time = prev['Longitude'], prev['Latitude'], prev['date']\n",
    "\n",
    "    mask_after = (df['date'] > timestamp_desired)\n",
    "    after = df.loc[mask_after].iloc[0] # get first row of masked post-point df\n",
    "    after_lon, after_lat, after_time = after['Longitude'], after['Latitude'], after['date']\n",
    "\n",
    "    # get interpolated value\n",
    "    diff_prev = (timestamp_desired - prev_time).seconds/3600\n",
    "    diff_after = (after_time - timestamp_desired).seconds/3600\n",
    "\n",
    "    weighted_lon = (((diff_after * prev_lon) + (diff_prev * after_lon)) \n",
    "                        / (diff_prev + diff_after)\n",
    "                   )\n",
    "    weighted_lat = (((diff_after * prev_lat) + (diff_prev * after_lat)) \n",
    "                        / (diff_prev + diff_after)\n",
    "                   )\n",
    "\n",
    "    lon, lat = weighted_lon, weighted_lat\n",
    "    \n",
    "    return lon, lat"
   ]
  },
  {
   "cell_type": "code",
   "execution_count": 92,
   "id": "ff92280a-2edb-4c78-ba33-7782bce27faf",
   "metadata": {},
   "outputs": [],
   "source": [
    "# given a model and observation, check whether the model is a hit\n",
    "# a model is defined to be a 'hit' if it has a point, within the first 24 hours of its genesis,\n",
    "#    that is inside a 5-degree radius of the observed track at that time.\n",
    "\n",
    "def check_for_hit_old(model, obs):\n",
    "    \n",
    "    genesis_date_model = model['date'].iloc[0]\n",
    "    for index,row in model.iterrows():\n",
    "        if row['date'] < genesis_date_model + timedelta(hours=24):\n",
    "            \n",
    "            time_model = row['date']\n",
    "            location_model = row[['Longitude', 'Latitude']]\n",
    "            model_lon, model_lat = location_model['Longitude'], location_model['Latitude']\n",
    "\n",
    "            corresponding_obs_row = obs.loc[obs['date']==time_model]\n",
    "\n",
    "            location_obs = corresponding_obs_row[['Longitude', 'Latitude']]\n",
    "            obs_lon, obs_lat = location_obs['Longitude'], location_obs['Latitude']\n",
    "\n",
    "            if location_obs.shape[0] == 0: # if the observation is missing data at that point:\n",
    "                # need to interpolate\n",
    "                obs_lon, obs_lat = interpolate(time_model, obs)\n",
    "\n",
    "            if (math.sqrt( (model_lon-obs_lon)**2 + (model_lat-obs_lat)**2 ) <= 5):\n",
    "                return True\n",
    "    return False"
   ]
  },
  {
   "cell_type": "code",
   "execution_count": null,
   "id": "f2661dd1-d79f-4073-985f-3cc05bd823a0",
   "metadata": {},
   "outputs": [],
   "source": []
  }
 ],
 "metadata": {
  "kernelspec": {
   "display_name": "Python (xarrayenv)",
   "language": "python",
   "name": "xarrayenv"
  },
  "language_info": {
   "codemirror_mode": {
    "name": "ipython",
    "version": 3
   },
   "file_extension": ".py",
   "mimetype": "text/x-python",
   "name": "python",
   "nbconvert_exporter": "python",
   "pygments_lexer": "ipython3",
   "version": "3.7.7"
  }
 },
 "nbformat": 4,
 "nbformat_minor": 5
}
